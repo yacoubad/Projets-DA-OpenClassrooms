{
 "cells": [
  {
   "cell_type": "markdown",
   "id": "5a96c269",
   "metadata": {},
   "source": [
    "## Sommaire\n",
    "\n",
    "[1. Importation des librairies](#1.-Importation-des-librairies)\n",
    "\n",
    "2. Importation des data frames et traitement des données\n",
    "\n",
    "> [2.1. Sous nutrition](#2.1.-Importation-data-frames-sous-nutrition)\n",
    "\n",
    "> [2.2. Disponibilité alimentaire](#2.2.-Disponibilité-alimentaire)\n",
    "\n",
    "> [2.3. Population](#2.3.-Population])\n",
    "\n",
    "> [2.4. Aide alimentaire](#2.4.-Aide-alimentaire)\n",
    "\n",
    "\n",
    "3. Traitement des demandes de Marc\n",
    "\n",
    ">  [3.1. La proportion de personnes en état de sous-nutrition](#3.1.-La-proportion-de-personnes-en-état-de-sous-nutrition)\n",
    "\n",
    ">  [3-2. Le nombre théorique de personnes qui pourraient être nourries](#3-2.-Le-nombre-théorique-de-personnes-qui-pourraient-être-nourries)\n",
    "\n",
    ">  [3.3. La disponibilité alimentaire des produits végétaux](#3.3.-La-disponibilité-alimentaire-des-produits-végétaux)\n",
    "\n",
    ">  [3.4. L’utilisation de la disponibilité intérieure, en particulier la part qui est attribuée à l’alimentation animale, celle qui est perdue et celle qui est concrètement utilisée pour l'alimentation humaine](#3.4.-L’utilisation-de-la-disponibilité-intérieure,-en-particulier-la-part-qui-est-attribuée-à-l’alimentation-animale,-celle-qui-est-perdue-et-celle-qui-est-concrètement-utilisée-pour-l'alimentation-humaine)\n",
    "\n",
    " 4- Traitement des demandes de Mélanie\n",
    "\n",
    "\n",
    ">  [4.1. Les pays pour lesquels la proportion de personnes sous alimentées est la plus forte en 2017](#4.1.-Les-pays-pour-lesquels-la-proportion-de-personnes-sous-alimentées-est-la-plus-forte-en-2017)\n",
    "\n",
    ">  [4.2. Les pays qui ont le plus bénéficié d’aide depuis 2013](#4.2.-Les-pays-qui-ont-le-plus-bénéficié-d’aide-depuis-2013)\n",
    "\n",
    ">  [4.3. Les pays ayant le plus/le moins de disponibilité/habitant](#4.3.-Les-pays-ayant-le-plus/le-moins-de-disponibilité/habitant)\n",
    "\n",
    " 5- Traitement des demandes de Julien\n",
    " \n",
    ">  [5.1. Équation exprimant le lien entre les 10 variables](#5.1.-Équation-exprimant-le-lien-entre-les-10-variables)\n",
    "\n",
    ">  [5.2. Répartition de l’utilisation des céréales entre l’alimentation humaine et animale](#5.2.-Répartition-de-l’utilisation-des-céréales-entre-l’alimentation-humaine-et-animale)\n",
    "\n",
    ">  [5.3. l’utilisation du manioc par la Thaïlande (Rapport entre la production et l’exportation)](#5.3.-l’utilisation-du-manioc-par-la-Thaïlande-(Rapport-entre-la-production-et-l’exportation))\n",
    "\n",
    "\n",
    "[6. Conclusion](#6.-Conclusion)"
   ]
  },
  {
   "cell_type": "markdown",
   "id": "933271d6",
   "metadata": {},
   "source": [
    "### 1. Importation des librairies"
   ]
  },
  {
   "cell_type": "code",
   "execution_count": 1,
   "id": "254c378e",
   "metadata": {},
   "outputs": [],
   "source": [
    "import pandas as pd\n",
    "import numpy as np\n",
    "import seaborn as sns\n",
    "import matplotlib.pyplot as plt"
   ]
  },
  {
   "cell_type": "markdown",
   "id": "fab030d8",
   "metadata": {},
   "source": [
    "### 2.1. Importation data frames sous nutrition"
   ]
  },
  {
   "cell_type": "code",
   "execution_count": 2,
   "id": "b7638fe7",
   "metadata": {},
   "outputs": [],
   "source": [
    "sous_nutrition = pd.read_csv('sous_nutrition.csv')"
   ]
  },
  {
   "cell_type": "code",
   "execution_count": 3,
   "id": "4bdce774",
   "metadata": {},
   "outputs": [
    {
     "data": {
      "text/html": [
       "<div>\n",
       "<style scoped>\n",
       "    .dataframe tbody tr th:only-of-type {\n",
       "        vertical-align: middle;\n",
       "    }\n",
       "\n",
       "    .dataframe tbody tr th {\n",
       "        vertical-align: top;\n",
       "    }\n",
       "\n",
       "    .dataframe thead th {\n",
       "        text-align: right;\n",
       "    }\n",
       "</style>\n",
       "<table border=\"1\" class=\"dataframe\">\n",
       "  <thead>\n",
       "    <tr style=\"text-align: right;\">\n",
       "      <th></th>\n",
       "      <th>Zone</th>\n",
       "      <th>Année</th>\n",
       "      <th>Valeur</th>\n",
       "    </tr>\n",
       "  </thead>\n",
       "  <tbody>\n",
       "    <tr>\n",
       "      <th>0</th>\n",
       "      <td>Afghanistan</td>\n",
       "      <td>2012-2014</td>\n",
       "      <td>8.6</td>\n",
       "    </tr>\n",
       "    <tr>\n",
       "      <th>1</th>\n",
       "      <td>Afghanistan</td>\n",
       "      <td>2013-2015</td>\n",
       "      <td>8.8</td>\n",
       "    </tr>\n",
       "    <tr>\n",
       "      <th>2</th>\n",
       "      <td>Afghanistan</td>\n",
       "      <td>2014-2016</td>\n",
       "      <td>8.9</td>\n",
       "    </tr>\n",
       "    <tr>\n",
       "      <th>3</th>\n",
       "      <td>Afghanistan</td>\n",
       "      <td>2015-2017</td>\n",
       "      <td>9.7</td>\n",
       "    </tr>\n",
       "    <tr>\n",
       "      <th>4</th>\n",
       "      <td>Afghanistan</td>\n",
       "      <td>2016-2018</td>\n",
       "      <td>10.5</td>\n",
       "    </tr>\n",
       "  </tbody>\n",
       "</table>\n",
       "</div>"
      ],
      "text/plain": [
       "          Zone      Année Valeur\n",
       "0  Afghanistan  2012-2014    8.6\n",
       "1  Afghanistan  2013-2015    8.8\n",
       "2  Afghanistan  2014-2016    8.9\n",
       "3  Afghanistan  2015-2017    9.7\n",
       "4  Afghanistan  2016-2018   10.5"
      ]
     },
     "execution_count": 3,
     "metadata": {},
     "output_type": "execute_result"
    }
   ],
   "source": [
    "# Aperçu des données importées\n",
    "\n",
    "sous_nutrition.head()"
   ]
  },
  {
   "cell_type": "code",
   "execution_count": 4,
   "id": "3cd390a3",
   "metadata": {},
   "outputs": [
    {
     "data": {
      "text/plain": [
       "Zone      object\n",
       "Année     object\n",
       "Valeur    object\n",
       "dtype: object"
      ]
     },
     "execution_count": 4,
     "metadata": {},
     "output_type": "execute_result"
    }
   ],
   "source": [
    "# Aperçu des types des données importées\n",
    "\n",
    "sous_nutrition.dtypes"
   ]
  },
  {
   "cell_type": "code",
   "execution_count": 5,
   "id": "36413368",
   "metadata": {},
   "outputs": [
    {
     "data": {
      "text/plain": [
       "Zone        0\n",
       "Année       0\n",
       "Valeur    594\n",
       "dtype: int64"
      ]
     },
     "execution_count": 5,
     "metadata": {},
     "output_type": "execute_result"
    }
   ],
   "source": [
    "# Aperçu des données manquantes\n",
    "\n",
    "sous_nutrition.isnull().sum()"
   ]
  },
  {
   "cell_type": "code",
   "execution_count": 6,
   "id": "0d3a5c5e",
   "metadata": {},
   "outputs": [
    {
     "data": {
      "text/html": [
       "<div>\n",
       "<style scoped>\n",
       "    .dataframe tbody tr th:only-of-type {\n",
       "        vertical-align: middle;\n",
       "    }\n",
       "\n",
       "    .dataframe tbody tr th {\n",
       "        vertical-align: top;\n",
       "    }\n",
       "\n",
       "    .dataframe thead th {\n",
       "        text-align: right;\n",
       "    }\n",
       "</style>\n",
       "<table border=\"1\" class=\"dataframe\">\n",
       "  <thead>\n",
       "    <tr style=\"text-align: right;\">\n",
       "      <th></th>\n",
       "      <th>Zone</th>\n",
       "      <th>Année</th>\n",
       "      <th>Valeur</th>\n",
       "    </tr>\n",
       "  </thead>\n",
       "  <tbody>\n",
       "    <tr>\n",
       "      <th>count</th>\n",
       "      <td>1218</td>\n",
       "      <td>1218</td>\n",
       "      <td>624</td>\n",
       "    </tr>\n",
       "    <tr>\n",
       "      <th>unique</th>\n",
       "      <td>203</td>\n",
       "      <td>6</td>\n",
       "      <td>139</td>\n",
       "    </tr>\n",
       "    <tr>\n",
       "      <th>top</th>\n",
       "      <td>Afghanistan</td>\n",
       "      <td>2012-2014</td>\n",
       "      <td>&lt;0.1</td>\n",
       "    </tr>\n",
       "    <tr>\n",
       "      <th>freq</th>\n",
       "      <td>6</td>\n",
       "      <td>203</td>\n",
       "      <td>120</td>\n",
       "    </tr>\n",
       "  </tbody>\n",
       "</table>\n",
       "</div>"
      ],
      "text/plain": [
       "               Zone      Année Valeur\n",
       "count          1218       1218    624\n",
       "unique          203          6    139\n",
       "top     Afghanistan  2012-2014   <0.1\n",
       "freq              6        203    120"
      ]
     },
     "execution_count": 6,
     "metadata": {},
     "output_type": "execute_result"
    }
   ],
   "source": [
    "# Description des données\n",
    "\n",
    "sous_nutrition.describe()"
   ]
  },
  {
   "cell_type": "code",
   "execution_count": 7,
   "id": "370a29b6",
   "metadata": {},
   "outputs": [
    {
     "data": {
      "text/plain": [
       "Zone      0\n",
       "Année     0\n",
       "Valeur    0\n",
       "dtype: int64"
      ]
     },
     "execution_count": 7,
     "metadata": {},
     "output_type": "execute_result"
    }
   ],
   "source": [
    "# Remplacement des données manquantes par 0\n",
    "\n",
    "sous_nutrition = sous_nutrition.fillna(0)\n",
    "sous_nutrition.isnull().sum()"
   ]
  },
  {
   "cell_type": "code",
   "execution_count": 8,
   "id": "227cb09e",
   "metadata": {},
   "outputs": [],
   "source": [
    "# Changer données '<0.1' en '0,01'\n",
    "\n",
    "sous_nutrition.loc[sous_nutrition['Valeur'] == '<0.1'] = 0.01"
   ]
  },
  {
   "cell_type": "code",
   "execution_count": 9,
   "id": "ca207546",
   "metadata": {},
   "outputs": [],
   "source": [
    "# Modification type donnée de la série Valeur en type float\n",
    "\n",
    "sous_nutrition['Valeur'] = sous_nutrition['Valeur'].astype(float)"
   ]
  },
  {
   "cell_type": "code",
   "execution_count": 10,
   "id": "3dde00a3",
   "metadata": {},
   "outputs": [],
   "source": [
    "modif_annee = ['2012-2014', '2013-2015', '2014-2016',\n",
    "               '2015-2017', '2016-2018', '2017-2019']\n",
    "annee = ['2013', '2014', '2015', '2016', '2017', '2018']\n",
    "sous_nutrition['Année'] = sous_nutrition['Année'].replace(modif_annee, annee)"
   ]
  },
  {
   "cell_type": "code",
   "execution_count": 11,
   "id": "b21b317a",
   "metadata": {},
   "outputs": [],
   "source": [
    "# Modification type donnée de la série Année en type int\n",
    "\n",
    "sous_nutrition['Année'] = sous_nutrition['Année'].astype(int)"
   ]
  },
  {
   "cell_type": "markdown",
   "id": "fea2dadf",
   "metadata": {},
   "source": [
    "### 2.2. Importation data frames disponibilité alimentaire"
   ]
  },
  {
   "cell_type": "code",
   "execution_count": 12,
   "id": "6e1eab52",
   "metadata": {},
   "outputs": [],
   "source": [
    "dispo_alimentaire = pd.read_csv('dispo_alimentaire.csv')"
   ]
  },
  {
   "cell_type": "code",
   "execution_count": 13,
   "id": "54fa2057",
   "metadata": {},
   "outputs": [
    {
     "data": {
      "text/html": [
       "<div>\n",
       "<style scoped>\n",
       "    .dataframe tbody tr th:only-of-type {\n",
       "        vertical-align: middle;\n",
       "    }\n",
       "\n",
       "    .dataframe tbody tr th {\n",
       "        vertical-align: top;\n",
       "    }\n",
       "\n",
       "    .dataframe thead th {\n",
       "        text-align: right;\n",
       "    }\n",
       "</style>\n",
       "<table border=\"1\" class=\"dataframe\">\n",
       "  <thead>\n",
       "    <tr style=\"text-align: right;\">\n",
       "      <th></th>\n",
       "      <th>Zone</th>\n",
       "      <th>Produit</th>\n",
       "      <th>Origine</th>\n",
       "      <th>Aliments pour animaux</th>\n",
       "      <th>Autres Utilisations</th>\n",
       "      <th>Disponibilité alimentaire (Kcal/personne/jour)</th>\n",
       "      <th>Disponibilité alimentaire en quantité (kg/personne/an)</th>\n",
       "      <th>Disponibilité de matière grasse en quantité (g/personne/jour)</th>\n",
       "      <th>Disponibilité de protéines en quantité (g/personne/jour)</th>\n",
       "      <th>Disponibilité intérieure</th>\n",
       "      <th>Exportations - Quantité</th>\n",
       "      <th>Importations - Quantité</th>\n",
       "      <th>Nourriture</th>\n",
       "      <th>Pertes</th>\n",
       "      <th>Production</th>\n",
       "      <th>Semences</th>\n",
       "      <th>Traitement</th>\n",
       "      <th>Variation de stock</th>\n",
       "    </tr>\n",
       "  </thead>\n",
       "  <tbody>\n",
       "    <tr>\n",
       "      <th>0</th>\n",
       "      <td>Afghanistan</td>\n",
       "      <td>Abats Comestible</td>\n",
       "      <td>animale</td>\n",
       "      <td>NaN</td>\n",
       "      <td>NaN</td>\n",
       "      <td>5.0</td>\n",
       "      <td>1.72</td>\n",
       "      <td>0.20</td>\n",
       "      <td>0.77</td>\n",
       "      <td>53.0</td>\n",
       "      <td>NaN</td>\n",
       "      <td>NaN</td>\n",
       "      <td>53.0</td>\n",
       "      <td>NaN</td>\n",
       "      <td>53.0</td>\n",
       "      <td>NaN</td>\n",
       "      <td>NaN</td>\n",
       "      <td>NaN</td>\n",
       "    </tr>\n",
       "    <tr>\n",
       "      <th>1</th>\n",
       "      <td>Afghanistan</td>\n",
       "      <td>Agrumes, Autres</td>\n",
       "      <td>vegetale</td>\n",
       "      <td>NaN</td>\n",
       "      <td>NaN</td>\n",
       "      <td>1.0</td>\n",
       "      <td>1.29</td>\n",
       "      <td>0.01</td>\n",
       "      <td>0.02</td>\n",
       "      <td>41.0</td>\n",
       "      <td>2.0</td>\n",
       "      <td>40.0</td>\n",
       "      <td>39.0</td>\n",
       "      <td>2.0</td>\n",
       "      <td>3.0</td>\n",
       "      <td>NaN</td>\n",
       "      <td>NaN</td>\n",
       "      <td>NaN</td>\n",
       "    </tr>\n",
       "    <tr>\n",
       "      <th>2</th>\n",
       "      <td>Afghanistan</td>\n",
       "      <td>Aliments pour enfants</td>\n",
       "      <td>vegetale</td>\n",
       "      <td>NaN</td>\n",
       "      <td>NaN</td>\n",
       "      <td>1.0</td>\n",
       "      <td>0.06</td>\n",
       "      <td>0.01</td>\n",
       "      <td>0.03</td>\n",
       "      <td>2.0</td>\n",
       "      <td>NaN</td>\n",
       "      <td>2.0</td>\n",
       "      <td>2.0</td>\n",
       "      <td>NaN</td>\n",
       "      <td>NaN</td>\n",
       "      <td>NaN</td>\n",
       "      <td>NaN</td>\n",
       "      <td>NaN</td>\n",
       "    </tr>\n",
       "    <tr>\n",
       "      <th>3</th>\n",
       "      <td>Afghanistan</td>\n",
       "      <td>Ananas</td>\n",
       "      <td>vegetale</td>\n",
       "      <td>NaN</td>\n",
       "      <td>NaN</td>\n",
       "      <td>0.0</td>\n",
       "      <td>0.00</td>\n",
       "      <td>NaN</td>\n",
       "      <td>NaN</td>\n",
       "      <td>0.0</td>\n",
       "      <td>NaN</td>\n",
       "      <td>0.0</td>\n",
       "      <td>0.0</td>\n",
       "      <td>NaN</td>\n",
       "      <td>NaN</td>\n",
       "      <td>NaN</td>\n",
       "      <td>NaN</td>\n",
       "      <td>NaN</td>\n",
       "    </tr>\n",
       "    <tr>\n",
       "      <th>4</th>\n",
       "      <td>Afghanistan</td>\n",
       "      <td>Bananes</td>\n",
       "      <td>vegetale</td>\n",
       "      <td>NaN</td>\n",
       "      <td>NaN</td>\n",
       "      <td>4.0</td>\n",
       "      <td>2.70</td>\n",
       "      <td>0.02</td>\n",
       "      <td>0.05</td>\n",
       "      <td>82.0</td>\n",
       "      <td>NaN</td>\n",
       "      <td>82.0</td>\n",
       "      <td>82.0</td>\n",
       "      <td>NaN</td>\n",
       "      <td>NaN</td>\n",
       "      <td>NaN</td>\n",
       "      <td>NaN</td>\n",
       "      <td>NaN</td>\n",
       "    </tr>\n",
       "  </tbody>\n",
       "</table>\n",
       "</div>"
      ],
      "text/plain": [
       "          Zone                Produit   Origine  Aliments pour animaux  \\\n",
       "0  Afghanistan       Abats Comestible   animale                    NaN   \n",
       "1  Afghanistan        Agrumes, Autres  vegetale                    NaN   \n",
       "2  Afghanistan  Aliments pour enfants  vegetale                    NaN   \n",
       "3  Afghanistan                 Ananas  vegetale                    NaN   \n",
       "4  Afghanistan                Bananes  vegetale                    NaN   \n",
       "\n",
       "   Autres Utilisations  Disponibilité alimentaire (Kcal/personne/jour)  \\\n",
       "0                  NaN                                             5.0   \n",
       "1                  NaN                                             1.0   \n",
       "2                  NaN                                             1.0   \n",
       "3                  NaN                                             0.0   \n",
       "4                  NaN                                             4.0   \n",
       "\n",
       "   Disponibilité alimentaire en quantité (kg/personne/an)  \\\n",
       "0                                               1.72        \n",
       "1                                               1.29        \n",
       "2                                               0.06        \n",
       "3                                               0.00        \n",
       "4                                               2.70        \n",
       "\n",
       "   Disponibilité de matière grasse en quantité (g/personne/jour)  \\\n",
       "0                                               0.20               \n",
       "1                                               0.01               \n",
       "2                                               0.01               \n",
       "3                                                NaN               \n",
       "4                                               0.02               \n",
       "\n",
       "   Disponibilité de protéines en quantité (g/personne/jour)  \\\n",
       "0                                               0.77          \n",
       "1                                               0.02          \n",
       "2                                               0.03          \n",
       "3                                                NaN          \n",
       "4                                               0.05          \n",
       "\n",
       "   Disponibilité intérieure  Exportations - Quantité  Importations - Quantité  \\\n",
       "0                      53.0                      NaN                      NaN   \n",
       "1                      41.0                      2.0                     40.0   \n",
       "2                       2.0                      NaN                      2.0   \n",
       "3                       0.0                      NaN                      0.0   \n",
       "4                      82.0                      NaN                     82.0   \n",
       "\n",
       "   Nourriture  Pertes  Production  Semences  Traitement  Variation de stock  \n",
       "0        53.0     NaN        53.0       NaN         NaN                 NaN  \n",
       "1        39.0     2.0         3.0       NaN         NaN                 NaN  \n",
       "2         2.0     NaN         NaN       NaN         NaN                 NaN  \n",
       "3         0.0     NaN         NaN       NaN         NaN                 NaN  \n",
       "4        82.0     NaN         NaN       NaN         NaN                 NaN  "
      ]
     },
     "execution_count": 13,
     "metadata": {},
     "output_type": "execute_result"
    }
   ],
   "source": [
    "# Aperçu des données importées\n",
    "\n",
    "dispo_alimentaire.head()"
   ]
  },
  {
   "cell_type": "code",
   "execution_count": 14,
   "id": "ade79b04",
   "metadata": {},
   "outputs": [
    {
     "data": {
      "text/plain": [
       "Zone                                                              object\n",
       "Produit                                                           object\n",
       "Origine                                                           object\n",
       "Aliments pour animaux                                            float64\n",
       "Autres Utilisations                                              float64\n",
       "Disponibilité alimentaire (Kcal/personne/jour)                   float64\n",
       "Disponibilité alimentaire en quantité (kg/personne/an)           float64\n",
       "Disponibilité de matière grasse en quantité (g/personne/jour)    float64\n",
       "Disponibilité de protéines en quantité (g/personne/jour)         float64\n",
       "Disponibilité intérieure                                         float64\n",
       "Exportations - Quantité                                          float64\n",
       "Importations - Quantité                                          float64\n",
       "Nourriture                                                       float64\n",
       "Pertes                                                           float64\n",
       "Production                                                       float64\n",
       "Semences                                                         float64\n",
       "Traitement                                                       float64\n",
       "Variation de stock                                               float64\n",
       "dtype: object"
      ]
     },
     "execution_count": 14,
     "metadata": {},
     "output_type": "execute_result"
    }
   ],
   "source": [
    "# Aperçu des types des données importées\n",
    "\n",
    "dispo_alimentaire.dtypes"
   ]
  },
  {
   "cell_type": "code",
   "execution_count": 15,
   "id": "0b4884ef",
   "metadata": {},
   "outputs": [
    {
     "data": {
      "text/html": [
       "<div>\n",
       "<style scoped>\n",
       "    .dataframe tbody tr th:only-of-type {\n",
       "        vertical-align: middle;\n",
       "    }\n",
       "\n",
       "    .dataframe tbody tr th {\n",
       "        vertical-align: top;\n",
       "    }\n",
       "\n",
       "    .dataframe thead th {\n",
       "        text-align: right;\n",
       "    }\n",
       "</style>\n",
       "<table border=\"1\" class=\"dataframe\">\n",
       "  <thead>\n",
       "    <tr style=\"text-align: right;\">\n",
       "      <th></th>\n",
       "      <th>Aliments pour animaux</th>\n",
       "      <th>Autres Utilisations</th>\n",
       "      <th>Disponibilité alimentaire (Kcal/personne/jour)</th>\n",
       "      <th>Disponibilité alimentaire en quantité (kg/personne/an)</th>\n",
       "      <th>Disponibilité de matière grasse en quantité (g/personne/jour)</th>\n",
       "      <th>Disponibilité de protéines en quantité (g/personne/jour)</th>\n",
       "      <th>Disponibilité intérieure</th>\n",
       "      <th>Exportations - Quantité</th>\n",
       "      <th>Importations - Quantité</th>\n",
       "      <th>Nourriture</th>\n",
       "      <th>Pertes</th>\n",
       "      <th>Production</th>\n",
       "      <th>Semences</th>\n",
       "      <th>Traitement</th>\n",
       "      <th>Variation de stock</th>\n",
       "    </tr>\n",
       "  </thead>\n",
       "  <tbody>\n",
       "    <tr>\n",
       "      <th>count</th>\n",
       "      <td>2720.000000</td>\n",
       "      <td>5496.000000</td>\n",
       "      <td>14241.000000</td>\n",
       "      <td>14015.000000</td>\n",
       "      <td>11794.000000</td>\n",
       "      <td>11561.000000</td>\n",
       "      <td>15382.000000</td>\n",
       "      <td>12226.000000</td>\n",
       "      <td>14852.000000</td>\n",
       "      <td>14015.000000</td>\n",
       "      <td>4278.000000</td>\n",
       "      <td>9180.000000</td>\n",
       "      <td>2091.000000</td>\n",
       "      <td>2292.000000</td>\n",
       "      <td>6776.000000</td>\n",
       "    </tr>\n",
       "    <tr>\n",
       "      <th>mean</th>\n",
       "      <td>479.501838</td>\n",
       "      <td>157.391376</td>\n",
       "      <td>34.789832</td>\n",
       "      <td>8.719368</td>\n",
       "      <td>1.283111</td>\n",
       "      <td>1.223608</td>\n",
       "      <td>640.293460</td>\n",
       "      <td>110.596925</td>\n",
       "      <td>87.264543</td>\n",
       "      <td>347.931359</td>\n",
       "      <td>106.053763</td>\n",
       "      <td>1090.379085</td>\n",
       "      <td>73.974653</td>\n",
       "      <td>961.905323</td>\n",
       "      <td>-15.407615</td>\n",
       "    </tr>\n",
       "    <tr>\n",
       "      <th>std</th>\n",
       "      <td>4240.119637</td>\n",
       "      <td>5076.785816</td>\n",
       "      <td>107.287655</td>\n",
       "      <td>24.618223</td>\n",
       "      <td>3.680399</td>\n",
       "      <td>3.598686</td>\n",
       "      <td>9067.267153</td>\n",
       "      <td>1053.318990</td>\n",
       "      <td>717.372714</td>\n",
       "      <td>4475.704458</td>\n",
       "      <td>1113.100416</td>\n",
       "      <td>12067.344094</td>\n",
       "      <td>528.069224</td>\n",
       "      <td>10381.795904</td>\n",
       "      <td>549.834540</td>\n",
       "    </tr>\n",
       "    <tr>\n",
       "      <th>min</th>\n",
       "      <td>0.000000</td>\n",
       "      <td>0.000000</td>\n",
       "      <td>-21.000000</td>\n",
       "      <td>-1.930000</td>\n",
       "      <td>-0.030000</td>\n",
       "      <td>-0.370000</td>\n",
       "      <td>-3430.000000</td>\n",
       "      <td>-41.000000</td>\n",
       "      <td>-201.000000</td>\n",
       "      <td>-246.000000</td>\n",
       "      <td>0.000000</td>\n",
       "      <td>0.000000</td>\n",
       "      <td>0.000000</td>\n",
       "      <td>-19.000000</td>\n",
       "      <td>-39863.000000</td>\n",
       "    </tr>\n",
       "    <tr>\n",
       "      <th>25%</th>\n",
       "      <td>0.000000</td>\n",
       "      <td>0.000000</td>\n",
       "      <td>0.000000</td>\n",
       "      <td>0.060000</td>\n",
       "      <td>0.010000</td>\n",
       "      <td>0.010000</td>\n",
       "      <td>0.000000</td>\n",
       "      <td>0.000000</td>\n",
       "      <td>0.000000</td>\n",
       "      <td>0.000000</td>\n",
       "      <td>0.000000</td>\n",
       "      <td>2.000000</td>\n",
       "      <td>0.000000</td>\n",
       "      <td>0.000000</td>\n",
       "      <td>0.000000</td>\n",
       "    </tr>\n",
       "    <tr>\n",
       "      <th>50%</th>\n",
       "      <td>4.000000</td>\n",
       "      <td>0.000000</td>\n",
       "      <td>4.000000</td>\n",
       "      <td>0.830000</td>\n",
       "      <td>0.080000</td>\n",
       "      <td>0.100000</td>\n",
       "      <td>7.000000</td>\n",
       "      <td>0.000000</td>\n",
       "      <td>2.000000</td>\n",
       "      <td>5.000000</td>\n",
       "      <td>4.000000</td>\n",
       "      <td>22.000000</td>\n",
       "      <td>2.000000</td>\n",
       "      <td>6.000000</td>\n",
       "      <td>0.000000</td>\n",
       "    </tr>\n",
       "    <tr>\n",
       "      <th>75%</th>\n",
       "      <td>74.000000</td>\n",
       "      <td>4.000000</td>\n",
       "      <td>21.000000</td>\n",
       "      <td>5.190000</td>\n",
       "      <td>0.630000</td>\n",
       "      <td>0.660000</td>\n",
       "      <td>76.750000</td>\n",
       "      <td>9.000000</td>\n",
       "      <td>18.000000</td>\n",
       "      <td>52.000000</td>\n",
       "      <td>26.000000</td>\n",
       "      <td>191.250000</td>\n",
       "      <td>17.000000</td>\n",
       "      <td>69.000000</td>\n",
       "      <td>0.000000</td>\n",
       "    </tr>\n",
       "    <tr>\n",
       "      <th>max</th>\n",
       "      <td>150000.000000</td>\n",
       "      <td>347309.000000</td>\n",
       "      <td>1711.000000</td>\n",
       "      <td>430.760000</td>\n",
       "      <td>60.760000</td>\n",
       "      <td>54.970000</td>\n",
       "      <td>739267.000000</td>\n",
       "      <td>42797.000000</td>\n",
       "      <td>63381.000000</td>\n",
       "      <td>426850.000000</td>\n",
       "      <td>55047.000000</td>\n",
       "      <td>739267.000000</td>\n",
       "      <td>17060.000000</td>\n",
       "      <td>326711.000000</td>\n",
       "      <td>5284.000000</td>\n",
       "    </tr>\n",
       "  </tbody>\n",
       "</table>\n",
       "</div>"
      ],
      "text/plain": [
       "       Aliments pour animaux  Autres Utilisations  \\\n",
       "count            2720.000000          5496.000000   \n",
       "mean              479.501838           157.391376   \n",
       "std              4240.119637          5076.785816   \n",
       "min                 0.000000             0.000000   \n",
       "25%                 0.000000             0.000000   \n",
       "50%                 4.000000             0.000000   \n",
       "75%                74.000000             4.000000   \n",
       "max            150000.000000        347309.000000   \n",
       "\n",
       "       Disponibilité alimentaire (Kcal/personne/jour)  \\\n",
       "count                                    14241.000000   \n",
       "mean                                        34.789832   \n",
       "std                                        107.287655   \n",
       "min                                        -21.000000   \n",
       "25%                                          0.000000   \n",
       "50%                                          4.000000   \n",
       "75%                                         21.000000   \n",
       "max                                       1711.000000   \n",
       "\n",
       "       Disponibilité alimentaire en quantité (kg/personne/an)  \\\n",
       "count                                       14015.000000        \n",
       "mean                                            8.719368        \n",
       "std                                            24.618223        \n",
       "min                                            -1.930000        \n",
       "25%                                             0.060000        \n",
       "50%                                             0.830000        \n",
       "75%                                             5.190000        \n",
       "max                                           430.760000        \n",
       "\n",
       "       Disponibilité de matière grasse en quantité (g/personne/jour)  \\\n",
       "count                                       11794.000000               \n",
       "mean                                            1.283111               \n",
       "std                                             3.680399               \n",
       "min                                            -0.030000               \n",
       "25%                                             0.010000               \n",
       "50%                                             0.080000               \n",
       "75%                                             0.630000               \n",
       "max                                            60.760000               \n",
       "\n",
       "       Disponibilité de protéines en quantité (g/personne/jour)  \\\n",
       "count                                       11561.000000          \n",
       "mean                                            1.223608          \n",
       "std                                             3.598686          \n",
       "min                                            -0.370000          \n",
       "25%                                             0.010000          \n",
       "50%                                             0.100000          \n",
       "75%                                             0.660000          \n",
       "max                                            54.970000          \n",
       "\n",
       "       Disponibilité intérieure  Exportations - Quantité  \\\n",
       "count              15382.000000             12226.000000   \n",
       "mean                 640.293460               110.596925   \n",
       "std                 9067.267153              1053.318990   \n",
       "min                -3430.000000               -41.000000   \n",
       "25%                    0.000000                 0.000000   \n",
       "50%                    7.000000                 0.000000   \n",
       "75%                   76.750000                 9.000000   \n",
       "max               739267.000000             42797.000000   \n",
       "\n",
       "       Importations - Quantité     Nourriture        Pertes     Production  \\\n",
       "count             14852.000000   14015.000000   4278.000000    9180.000000   \n",
       "mean                 87.264543     347.931359    106.053763    1090.379085   \n",
       "std                 717.372714    4475.704458   1113.100416   12067.344094   \n",
       "min                -201.000000    -246.000000      0.000000       0.000000   \n",
       "25%                   0.000000       0.000000      0.000000       2.000000   \n",
       "50%                   2.000000       5.000000      4.000000      22.000000   \n",
       "75%                  18.000000      52.000000     26.000000     191.250000   \n",
       "max               63381.000000  426850.000000  55047.000000  739267.000000   \n",
       "\n",
       "           Semences     Traitement  Variation de stock  \n",
       "count   2091.000000    2292.000000         6776.000000  \n",
       "mean      73.974653     961.905323          -15.407615  \n",
       "std      528.069224   10381.795904          549.834540  \n",
       "min        0.000000     -19.000000       -39863.000000  \n",
       "25%        0.000000       0.000000            0.000000  \n",
       "50%        2.000000       6.000000            0.000000  \n",
       "75%       17.000000      69.000000            0.000000  \n",
       "max    17060.000000  326711.000000         5284.000000  "
      ]
     },
     "execution_count": 15,
     "metadata": {},
     "output_type": "execute_result"
    }
   ],
   "source": [
    "# Description des données\n",
    "\n",
    "dispo_alimentaire.describe()"
   ]
  },
  {
   "cell_type": "code",
   "execution_count": 16,
   "id": "2a600b7e",
   "metadata": {},
   "outputs": [
    {
     "data": {
      "text/plain": [
       "Zone                                                                 0\n",
       "Produit                                                              0\n",
       "Origine                                                              0\n",
       "Aliments pour animaux                                            12885\n",
       "Autres Utilisations                                              10109\n",
       "Disponibilité alimentaire (Kcal/personne/jour)                    1364\n",
       "Disponibilité alimentaire en quantité (kg/personne/an)            1590\n",
       "Disponibilité de matière grasse en quantité (g/personne/jour)     3811\n",
       "Disponibilité de protéines en quantité (g/personne/jour)          4044\n",
       "Disponibilité intérieure                                           223\n",
       "Exportations - Quantité                                           3379\n",
       "Importations - Quantité                                            753\n",
       "Nourriture                                                        1590\n",
       "Pertes                                                           11327\n",
       "Production                                                        6425\n",
       "Semences                                                         13514\n",
       "Traitement                                                       13313\n",
       "Variation de stock                                                8829\n",
       "dtype: int64"
      ]
     },
     "execution_count": 16,
     "metadata": {},
     "output_type": "execute_result"
    }
   ],
   "source": [
    "# Aperçu des données manquantes\n",
    "\n",
    "dispo_alimentaire.isnull().sum()"
   ]
  },
  {
   "cell_type": "code",
   "execution_count": 17,
   "id": "add7605b",
   "metadata": {},
   "outputs": [
    {
     "data": {
      "text/html": [
       "<div>\n",
       "<style scoped>\n",
       "    .dataframe tbody tr th:only-of-type {\n",
       "        vertical-align: middle;\n",
       "    }\n",
       "\n",
       "    .dataframe tbody tr th {\n",
       "        vertical-align: top;\n",
       "    }\n",
       "\n",
       "    .dataframe thead th {\n",
       "        text-align: right;\n",
       "    }\n",
       "</style>\n",
       "<table border=\"1\" class=\"dataframe\">\n",
       "  <thead>\n",
       "    <tr style=\"text-align: right;\">\n",
       "      <th></th>\n",
       "      <th>Aliments pour animaux</th>\n",
       "      <th>Autres Utilisations</th>\n",
       "      <th>Disponibilité alimentaire (Kcal/personne/jour)</th>\n",
       "      <th>Disponibilité alimentaire en quantité (kg/personne/an)</th>\n",
       "      <th>Disponibilité de matière grasse en quantité (g/personne/jour)</th>\n",
       "      <th>Disponibilité de protéines en quantité (g/personne/jour)</th>\n",
       "      <th>Disponibilité intérieure</th>\n",
       "      <th>Exportations - Quantité</th>\n",
       "      <th>Importations - Quantité</th>\n",
       "      <th>Nourriture</th>\n",
       "      <th>Pertes</th>\n",
       "      <th>Production</th>\n",
       "      <th>Semences</th>\n",
       "      <th>Traitement</th>\n",
       "      <th>Variation de stock</th>\n",
       "    </tr>\n",
       "  </thead>\n",
       "  <tbody>\n",
       "    <tr>\n",
       "      <th>count</th>\n",
       "      <td>15605.000000</td>\n",
       "      <td>15605.000000</td>\n",
       "      <td>15605.000000</td>\n",
       "      <td>15605.000000</td>\n",
       "      <td>15605.000000</td>\n",
       "      <td>15605.000000</td>\n",
       "      <td>15605.000000</td>\n",
       "      <td>15605.000000</td>\n",
       "      <td>15605.000000</td>\n",
       "      <td>15605.000000</td>\n",
       "      <td>15605.000000</td>\n",
       "      <td>15605.000000</td>\n",
       "      <td>15605.000000</td>\n",
       "      <td>15605.000000</td>\n",
       "      <td>15605.000000</td>\n",
       "    </tr>\n",
       "    <tr>\n",
       "      <th>mean</th>\n",
       "      <td>83.578661</td>\n",
       "      <td>55.432426</td>\n",
       "      <td>31.748927</td>\n",
       "      <td>7.830948</td>\n",
       "      <td>0.969754</td>\n",
       "      <td>0.906513</td>\n",
       "      <td>631.143480</td>\n",
       "      <td>86.649023</td>\n",
       "      <td>83.053701</td>\n",
       "      <td>312.480487</td>\n",
       "      <td>29.073887</td>\n",
       "      <td>641.440564</td>\n",
       "      <td>9.912272</td>\n",
       "      <td>141.280807</td>\n",
       "      <td>-6.690292</td>\n",
       "    </tr>\n",
       "    <tr>\n",
       "      <th>std</th>\n",
       "      <td>1779.289153</td>\n",
       "      <td>3013.629812</td>\n",
       "      <td>102.961194</td>\n",
       "      <td>23.478909</td>\n",
       "      <td>3.246695</td>\n",
       "      <td>3.143516</td>\n",
       "      <td>9002.563666</td>\n",
       "      <td>933.435208</td>\n",
       "      <td>700.099451</td>\n",
       "      <td>4242.854724</td>\n",
       "      <td>584.672236</td>\n",
       "      <td>9270.864198</td>\n",
       "      <td>194.897843</td>\n",
       "      <td>3992.567621</td>\n",
       "      <td>362.380787</td>\n",
       "    </tr>\n",
       "    <tr>\n",
       "      <th>min</th>\n",
       "      <td>0.000000</td>\n",
       "      <td>0.000000</td>\n",
       "      <td>-21.000000</td>\n",
       "      <td>-1.930000</td>\n",
       "      <td>-0.030000</td>\n",
       "      <td>-0.370000</td>\n",
       "      <td>-3430.000000</td>\n",
       "      <td>-41.000000</td>\n",
       "      <td>-201.000000</td>\n",
       "      <td>-246.000000</td>\n",
       "      <td>0.000000</td>\n",
       "      <td>0.000000</td>\n",
       "      <td>0.000000</td>\n",
       "      <td>-19.000000</td>\n",
       "      <td>-39863.000000</td>\n",
       "    </tr>\n",
       "    <tr>\n",
       "      <th>25%</th>\n",
       "      <td>0.000000</td>\n",
       "      <td>0.000000</td>\n",
       "      <td>0.000000</td>\n",
       "      <td>0.010000</td>\n",
       "      <td>0.000000</td>\n",
       "      <td>0.000000</td>\n",
       "      <td>0.000000</td>\n",
       "      <td>0.000000</td>\n",
       "      <td>0.000000</td>\n",
       "      <td>0.000000</td>\n",
       "      <td>0.000000</td>\n",
       "      <td>0.000000</td>\n",
       "      <td>0.000000</td>\n",
       "      <td>0.000000</td>\n",
       "      <td>0.000000</td>\n",
       "    </tr>\n",
       "    <tr>\n",
       "      <th>50%</th>\n",
       "      <td>0.000000</td>\n",
       "      <td>0.000000</td>\n",
       "      <td>3.000000</td>\n",
       "      <td>0.520000</td>\n",
       "      <td>0.020000</td>\n",
       "      <td>0.020000</td>\n",
       "      <td>6.000000</td>\n",
       "      <td>0.000000</td>\n",
       "      <td>1.000000</td>\n",
       "      <td>3.000000</td>\n",
       "      <td>0.000000</td>\n",
       "      <td>0.000000</td>\n",
       "      <td>0.000000</td>\n",
       "      <td>0.000000</td>\n",
       "      <td>0.000000</td>\n",
       "    </tr>\n",
       "    <tr>\n",
       "      <th>75%</th>\n",
       "      <td>0.000000</td>\n",
       "      <td>0.000000</td>\n",
       "      <td>18.000000</td>\n",
       "      <td>4.270000</td>\n",
       "      <td>0.310000</td>\n",
       "      <td>0.350000</td>\n",
       "      <td>73.000000</td>\n",
       "      <td>4.000000</td>\n",
       "      <td>16.000000</td>\n",
       "      <td>40.000000</td>\n",
       "      <td>0.000000</td>\n",
       "      <td>42.000000</td>\n",
       "      <td>0.000000</td>\n",
       "      <td>0.000000</td>\n",
       "      <td>0.000000</td>\n",
       "    </tr>\n",
       "    <tr>\n",
       "      <th>max</th>\n",
       "      <td>150000.000000</td>\n",
       "      <td>347309.000000</td>\n",
       "      <td>1711.000000</td>\n",
       "      <td>430.760000</td>\n",
       "      <td>60.760000</td>\n",
       "      <td>54.970000</td>\n",
       "      <td>739267.000000</td>\n",
       "      <td>42797.000000</td>\n",
       "      <td>63381.000000</td>\n",
       "      <td>426850.000000</td>\n",
       "      <td>55047.000000</td>\n",
       "      <td>739267.000000</td>\n",
       "      <td>17060.000000</td>\n",
       "      <td>326711.000000</td>\n",
       "      <td>5284.000000</td>\n",
       "    </tr>\n",
       "  </tbody>\n",
       "</table>\n",
       "</div>"
      ],
      "text/plain": [
       "       Aliments pour animaux  Autres Utilisations  \\\n",
       "count           15605.000000         15605.000000   \n",
       "mean               83.578661            55.432426   \n",
       "std              1779.289153          3013.629812   \n",
       "min                 0.000000             0.000000   \n",
       "25%                 0.000000             0.000000   \n",
       "50%                 0.000000             0.000000   \n",
       "75%                 0.000000             0.000000   \n",
       "max            150000.000000        347309.000000   \n",
       "\n",
       "       Disponibilité alimentaire (Kcal/personne/jour)  \\\n",
       "count                                    15605.000000   \n",
       "mean                                        31.748927   \n",
       "std                                        102.961194   \n",
       "min                                        -21.000000   \n",
       "25%                                          0.000000   \n",
       "50%                                          3.000000   \n",
       "75%                                         18.000000   \n",
       "max                                       1711.000000   \n",
       "\n",
       "       Disponibilité alimentaire en quantité (kg/personne/an)  \\\n",
       "count                                       15605.000000        \n",
       "mean                                            7.830948        \n",
       "std                                            23.478909        \n",
       "min                                            -1.930000        \n",
       "25%                                             0.010000        \n",
       "50%                                             0.520000        \n",
       "75%                                             4.270000        \n",
       "max                                           430.760000        \n",
       "\n",
       "       Disponibilité de matière grasse en quantité (g/personne/jour)  \\\n",
       "count                                       15605.000000               \n",
       "mean                                            0.969754               \n",
       "std                                             3.246695               \n",
       "min                                            -0.030000               \n",
       "25%                                             0.000000               \n",
       "50%                                             0.020000               \n",
       "75%                                             0.310000               \n",
       "max                                            60.760000               \n",
       "\n",
       "       Disponibilité de protéines en quantité (g/personne/jour)  \\\n",
       "count                                       15605.000000          \n",
       "mean                                            0.906513          \n",
       "std                                             3.143516          \n",
       "min                                            -0.370000          \n",
       "25%                                             0.000000          \n",
       "50%                                             0.020000          \n",
       "75%                                             0.350000          \n",
       "max                                            54.970000          \n",
       "\n",
       "       Disponibilité intérieure  Exportations - Quantité  \\\n",
       "count              15605.000000             15605.000000   \n",
       "mean                 631.143480                86.649023   \n",
       "std                 9002.563666               933.435208   \n",
       "min                -3430.000000               -41.000000   \n",
       "25%                    0.000000                 0.000000   \n",
       "50%                    6.000000                 0.000000   \n",
       "75%                   73.000000                 4.000000   \n",
       "max               739267.000000             42797.000000   \n",
       "\n",
       "       Importations - Quantité     Nourriture        Pertes     Production  \\\n",
       "count             15605.000000   15605.000000  15605.000000   15605.000000   \n",
       "mean                 83.053701     312.480487     29.073887     641.440564   \n",
       "std                 700.099451    4242.854724    584.672236    9270.864198   \n",
       "min                -201.000000    -246.000000      0.000000       0.000000   \n",
       "25%                   0.000000       0.000000      0.000000       0.000000   \n",
       "50%                   1.000000       3.000000      0.000000       0.000000   \n",
       "75%                  16.000000      40.000000      0.000000      42.000000   \n",
       "max               63381.000000  426850.000000  55047.000000  739267.000000   \n",
       "\n",
       "           Semences     Traitement  Variation de stock  \n",
       "count  15605.000000   15605.000000        15605.000000  \n",
       "mean       9.912272     141.280807           -6.690292  \n",
       "std      194.897843    3992.567621          362.380787  \n",
       "min        0.000000     -19.000000       -39863.000000  \n",
       "25%        0.000000       0.000000            0.000000  \n",
       "50%        0.000000       0.000000            0.000000  \n",
       "75%        0.000000       0.000000            0.000000  \n",
       "max    17060.000000  326711.000000         5284.000000  "
      ]
     },
     "execution_count": 17,
     "metadata": {},
     "output_type": "execute_result"
    }
   ],
   "source": [
    "# Remplacement des données manquantes par 0\n",
    "\n",
    "dispo_alimentaire = dispo_alimentaire.fillna(0)\n",
    "dispo_alimentaire.describe()"
   ]
  },
  {
   "cell_type": "markdown",
   "id": "1a024386",
   "metadata": {},
   "source": [
    "### 2.3. Importation data frames population"
   ]
  },
  {
   "cell_type": "code",
   "execution_count": 18,
   "id": "4e8ecc03",
   "metadata": {},
   "outputs": [],
   "source": [
    "population = pd.read_csv('population.csv')"
   ]
  },
  {
   "cell_type": "code",
   "execution_count": 19,
   "id": "48a6fbf1",
   "metadata": {},
   "outputs": [
    {
     "data": {
      "text/html": [
       "<div>\n",
       "<style scoped>\n",
       "    .dataframe tbody tr th:only-of-type {\n",
       "        vertical-align: middle;\n",
       "    }\n",
       "\n",
       "    .dataframe tbody tr th {\n",
       "        vertical-align: top;\n",
       "    }\n",
       "\n",
       "    .dataframe thead th {\n",
       "        text-align: right;\n",
       "    }\n",
       "</style>\n",
       "<table border=\"1\" class=\"dataframe\">\n",
       "  <thead>\n",
       "    <tr style=\"text-align: right;\">\n",
       "      <th></th>\n",
       "      <th>Zone</th>\n",
       "      <th>Année</th>\n",
       "      <th>Valeur</th>\n",
       "    </tr>\n",
       "  </thead>\n",
       "  <tbody>\n",
       "    <tr>\n",
       "      <th>0</th>\n",
       "      <td>Afghanistan</td>\n",
       "      <td>2013</td>\n",
       "      <td>32269.589</td>\n",
       "    </tr>\n",
       "    <tr>\n",
       "      <th>1</th>\n",
       "      <td>Afghanistan</td>\n",
       "      <td>2014</td>\n",
       "      <td>33370.794</td>\n",
       "    </tr>\n",
       "    <tr>\n",
       "      <th>2</th>\n",
       "      <td>Afghanistan</td>\n",
       "      <td>2015</td>\n",
       "      <td>34413.603</td>\n",
       "    </tr>\n",
       "    <tr>\n",
       "      <th>3</th>\n",
       "      <td>Afghanistan</td>\n",
       "      <td>2016</td>\n",
       "      <td>35383.032</td>\n",
       "    </tr>\n",
       "    <tr>\n",
       "      <th>4</th>\n",
       "      <td>Afghanistan</td>\n",
       "      <td>2017</td>\n",
       "      <td>36296.113</td>\n",
       "    </tr>\n",
       "  </tbody>\n",
       "</table>\n",
       "</div>"
      ],
      "text/plain": [
       "          Zone  Année     Valeur\n",
       "0  Afghanistan   2013  32269.589\n",
       "1  Afghanistan   2014  33370.794\n",
       "2  Afghanistan   2015  34413.603\n",
       "3  Afghanistan   2016  35383.032\n",
       "4  Afghanistan   2017  36296.113"
      ]
     },
     "execution_count": 19,
     "metadata": {},
     "output_type": "execute_result"
    }
   ],
   "source": [
    "# Aperçu des données importées\n",
    "\n",
    "population.head()"
   ]
  },
  {
   "cell_type": "code",
   "execution_count": 20,
   "id": "49af1540",
   "metadata": {},
   "outputs": [
    {
     "data": {
      "text/plain": [
       "Zone       object\n",
       "Année       int64\n",
       "Valeur    float64\n",
       "dtype: object"
      ]
     },
     "execution_count": 20,
     "metadata": {},
     "output_type": "execute_result"
    }
   ],
   "source": [
    "# Aperçu des types des données importées\n",
    "\n",
    "population.dtypes"
   ]
  },
  {
   "cell_type": "code",
   "execution_count": 21,
   "id": "13b47361",
   "metadata": {},
   "outputs": [
    {
     "data": {
      "text/plain": [
       "Zone      0\n",
       "Année     0\n",
       "Valeur    0\n",
       "dtype: int64"
      ]
     },
     "execution_count": 21,
     "metadata": {},
     "output_type": "execute_result"
    }
   ],
   "source": [
    "# Aperçu des données manquantes\n",
    "\n",
    "population.isnull().sum()"
   ]
  },
  {
   "cell_type": "code",
   "execution_count": 22,
   "id": "bf20cc3e",
   "metadata": {},
   "outputs": [],
   "source": [
    "# Conversion unité Valeur, de milliers en million\n",
    "\n",
    "population['Valeur'] = population['Valeur']*1000"
   ]
  },
  {
   "cell_type": "markdown",
   "id": "be52af01",
   "metadata": {},
   "source": [
    "### 2.4. Importation data frames aide alimentaire"
   ]
  },
  {
   "cell_type": "code",
   "execution_count": 23,
   "id": "bb829c00",
   "metadata": {},
   "outputs": [],
   "source": [
    "aide_alimentaire = pd.read_csv('aide_alimentaire.csv')"
   ]
  },
  {
   "cell_type": "code",
   "execution_count": 24,
   "id": "ac863802",
   "metadata": {},
   "outputs": [
    {
     "data": {
      "text/html": [
       "<div>\n",
       "<style scoped>\n",
       "    .dataframe tbody tr th:only-of-type {\n",
       "        vertical-align: middle;\n",
       "    }\n",
       "\n",
       "    .dataframe tbody tr th {\n",
       "        vertical-align: top;\n",
       "    }\n",
       "\n",
       "    .dataframe thead th {\n",
       "        text-align: right;\n",
       "    }\n",
       "</style>\n",
       "<table border=\"1\" class=\"dataframe\">\n",
       "  <thead>\n",
       "    <tr style=\"text-align: right;\">\n",
       "      <th></th>\n",
       "      <th>Pays bénéficiaire</th>\n",
       "      <th>Année</th>\n",
       "      <th>Produit</th>\n",
       "      <th>Valeur</th>\n",
       "    </tr>\n",
       "  </thead>\n",
       "  <tbody>\n",
       "    <tr>\n",
       "      <th>0</th>\n",
       "      <td>Afghanistan</td>\n",
       "      <td>2013</td>\n",
       "      <td>Autres non-céréales</td>\n",
       "      <td>682</td>\n",
       "    </tr>\n",
       "    <tr>\n",
       "      <th>1</th>\n",
       "      <td>Afghanistan</td>\n",
       "      <td>2014</td>\n",
       "      <td>Autres non-céréales</td>\n",
       "      <td>335</td>\n",
       "    </tr>\n",
       "    <tr>\n",
       "      <th>2</th>\n",
       "      <td>Afghanistan</td>\n",
       "      <td>2013</td>\n",
       "      <td>Blé et Farin</td>\n",
       "      <td>39224</td>\n",
       "    </tr>\n",
       "    <tr>\n",
       "      <th>3</th>\n",
       "      <td>Afghanistan</td>\n",
       "      <td>2014</td>\n",
       "      <td>Blé et Farin</td>\n",
       "      <td>15160</td>\n",
       "    </tr>\n",
       "    <tr>\n",
       "      <th>4</th>\n",
       "      <td>Afghanistan</td>\n",
       "      <td>2013</td>\n",
       "      <td>Céréales</td>\n",
       "      <td>40504</td>\n",
       "    </tr>\n",
       "  </tbody>\n",
       "</table>\n",
       "</div>"
      ],
      "text/plain": [
       "  Pays bénéficiaire  Année              Produit  Valeur\n",
       "0       Afghanistan   2013  Autres non-céréales     682\n",
       "1       Afghanistan   2014  Autres non-céréales     335\n",
       "2       Afghanistan   2013         Blé et Farin   39224\n",
       "3       Afghanistan   2014         Blé et Farin   15160\n",
       "4       Afghanistan   2013             Céréales   40504"
      ]
     },
     "execution_count": 24,
     "metadata": {},
     "output_type": "execute_result"
    }
   ],
   "source": [
    "# Aperçu des données importées\n",
    "\n",
    "aide_alimentaire.head()"
   ]
  },
  {
   "cell_type": "code",
   "execution_count": 25,
   "id": "ccbd489d",
   "metadata": {},
   "outputs": [
    {
     "data": {
      "text/plain": [
       "Pays bénéficiaire    object\n",
       "Année                 int64\n",
       "Produit              object\n",
       "Valeur                int64\n",
       "dtype: object"
      ]
     },
     "execution_count": 25,
     "metadata": {},
     "output_type": "execute_result"
    }
   ],
   "source": [
    "# Aperçu des types des données importées\n",
    "\n",
    "aide_alimentaire.dtypes"
   ]
  },
  {
   "cell_type": "code",
   "execution_count": 26,
   "id": "e7a85a53",
   "metadata": {},
   "outputs": [],
   "source": [
    "# Modification du nom de la série « Pays bénéficiaire » en « Zone »\n",
    "\n",
    "aide_alimentaire = aide_alimentaire.rename(\n",
    "    columns={'Pays bénéficiaire': 'Zone'})"
   ]
  },
  {
   "cell_type": "code",
   "execution_count": 27,
   "id": "6a36e524",
   "metadata": {},
   "outputs": [
    {
     "data": {
      "text/plain": [
       "Zone       0\n",
       "Année      0\n",
       "Produit    0\n",
       "Valeur     0\n",
       "dtype: int64"
      ]
     },
     "execution_count": 27,
     "metadata": {},
     "output_type": "execute_result"
    }
   ],
   "source": [
    "# Aperçu des données manquantes\n",
    "\n",
    "aide_alimentaire.isnull().sum()"
   ]
  },
  {
   "cell_type": "markdown",
   "id": "9be04f73",
   "metadata": {},
   "source": [
    "### 3.1. La proportion de personnes en état de sous-nutrition"
   ]
  },
  {
   "cell_type": "code",
   "execution_count": 28,
   "id": "6ed56072",
   "metadata": {},
   "outputs": [
    {
     "name": "stdout",
     "output_type": "stream",
     "text": [
      "La population mondiale en 2017 était de 7.55 milliards de personnes\n",
      "\n",
      "La population mondiale en état de sous-nutrition en 2017 était de 535.7 millions de personnes\n",
      "\n",
      "La proportion de personnes en état de sous-nutrition en 2017 était de 7.1 % de la population mondiale\n"
     ]
    }
   ],
   "source": [
    "# Calcul de la population mondiale en 2017\n",
    "\n",
    "pop_tot_2017 = sum(population.loc[population['Année'] == 2017, 'Valeur'])\n",
    "\n",
    "# Calcul de la population mondiale en sous nutrition en 2017\n",
    "\n",
    "pop_sous_nu_2017 = sum(\n",
    "    sous_nutrition.loc[sous_nutrition['Année'] == 2017, 'Valeur'])\n",
    "\n",
    "# Calcul de la proportion de personnes en état de sous-nutrition\n",
    "\n",
    "proportion_sous_alim_2017 = round(pop_sous_nu_2017*1000000/pop_tot_2017*100, 2)\n",
    "\n",
    "print(\"La population mondiale en 2017 était de\", round(\n",
    "    pop_tot_2017/1000000000, 2), \"milliards de personnes\\n\")\n",
    "print(\"La population mondiale en état de sous-nutrition en 2017 était de\",\n",
    "      pop_sous_nu_2017, \"millions de personnes\\n\")\n",
    "print(\"La proportion de personnes en état de sous-nutrition en 2017 était de\",\n",
    "      proportion_sous_alim_2017, '% de la population mondiale')"
   ]
  },
  {
   "cell_type": "markdown",
   "id": "aa0ba89f",
   "metadata": {},
   "source": [
    "### 3.2. Le nombre théorique de personnes qui pourraient être nourries"
   ]
  },
  {
   "cell_type": "code",
   "execution_count": 29,
   "id": "836652b4",
   "metadata": {},
   "outputs": [],
   "source": [
    "# Création data frames population pour l'année 2017\n",
    "\n",
    "population_2017 = population.loc[population['Année'] == 2017]\n",
    "\n",
    "# Jointure entre df disponibilité alimentaire et population pour l'année 2017\n",
    "\n",
    "dispo_alimentaire = pd.merge(\n",
    "    dispo_alimentaire, population_2017, on='Zone', how='inner')\n",
    "\n",
    "# Création d'une serie permettant de calculer la disponibilité alimentaire journaliere de chaque pays\n",
    "\n",
    "dispo_alimentaire['Disponibilité alimentaire (Kcal/jour/pays)'] = dispo_alimentaire[\n",
    "    'Disponibilité alimentaire (Kcal/personne/jour)']*dispo_alimentaire['Valeur']"
   ]
  },
  {
   "cell_type": "code",
   "execution_count": 30,
   "id": "b9107d02",
   "metadata": {},
   "outputs": [
    {
     "name": "stdout",
     "output_type": "stream",
     "text": [
      "La disponibilité alimentaire pour l'année 2017 pouvait nourrir 8.37 milliards de personnes, soit 1.11 fois \n",
      " la polulation mondiale\n"
     ]
    }
   ],
   "source": [
    "# Besoin calorique journalier=2500 (https://www.santemagazine.fr/alimentation/acheter-et-cuisiner/repas-equilibre/comment-calculer-vos-besoins-journaliers-en-calories-267433)\n",
    "\n",
    "dispo_alimentaire_2017 = round(\n",
    "    dispo_alimentaire['Disponibilité alimentaire (Kcal/jour/pays)'].sum()/2500)\n",
    "\n",
    "print(\"La disponibilité alimentaire pour l'année 2017 pouvait nourrir\", round(dispo_alimentaire_2017/1000000000, 2),\n",
    "      \"milliards de personnes, soit\", round(dispo_alimentaire_2017/pop_tot_2017, 2), \"fois\", \"\\n\", \"la polulation mondiale\")"
   ]
  },
  {
   "cell_type": "markdown",
   "id": "dd8ad250",
   "metadata": {},
   "source": [
    "### 3.3. La disponibilité alimentaire des produits végétaux"
   ]
  },
  {
   "cell_type": "code",
   "execution_count": 31,
   "id": "d552dc4a",
   "metadata": {},
   "outputs": [],
   "source": [
    "# Filtrage des produits de type végétal\n",
    "\n",
    "dispo_alimentaire_vetegaux = dispo_alimentaire.loc[dispo_alimentaire['Origine'] == 'vegetale']"
   ]
  },
  {
   "cell_type": "code",
   "execution_count": 32,
   "id": "f1dbf54e",
   "metadata": {},
   "outputs": [
    {
     "name": "stdout",
     "output_type": "stream",
     "text": [
      "La disponibilité alimentaire des aliments végétaux pour l'année 2017 pouvait nourrir 6.9 milliards de personnes, \n",
      " soit 0.91 fois la polulation mondiale\n"
     ]
    }
   ],
   "source": [
    "dispo_vetegaux = round(\n",
    "    dispo_alimentaire_vetegaux['Disponibilité alimentaire (Kcal/jour/pays)'].sum()/2500)\n",
    "print(\"La disponibilité alimentaire des aliments végétaux pour l'année 2017 pouvait nourrir\", round(dispo_vetegaux /\n",
    "      1000000000, 2), \"milliards de personnes, \\n soit\", round(dispo_vetegaux/pop_tot_2017, 2), \"fois la polulation mondiale\")"
   ]
  },
  {
   "cell_type": "markdown",
   "id": "95219d08",
   "metadata": {},
   "source": [
    "### 3.4. L’utilisation de la disponibilité intérieure, en particulier la part qui est attribuée à l’alimentation animale, celle qui est perdue et celle qui est concrètement utilisée pour l'alimentation humaine"
   ]
  },
  {
   "cell_type": "code",
   "execution_count": 33,
   "id": "25587b5e",
   "metadata": {},
   "outputs": [],
   "source": [
    "# Calcul somme aliments pour animaux\n",
    "\n",
    "som_alim_anim = round(dispo_alimentaire['Aliments pour animaux'].sum())"
   ]
  },
  {
   "cell_type": "code",
   "execution_count": 34,
   "id": "1fac389b",
   "metadata": {},
   "outputs": [],
   "source": [
    "# Calcul somme disponibilité interieure\n",
    "\n",
    "dispo_int = round(dispo_alimentaire['Disponibilité intérieure'].sum())"
   ]
  },
  {
   "cell_type": "code",
   "execution_count": 35,
   "id": "f8959d4d",
   "metadata": {},
   "outputs": [
    {
     "name": "stdout",
     "output_type": "stream",
     "text": [
      "La part de l'alimentation animale dans la disponibilité intérieure était de 13.23 %\n"
     ]
    }
   ],
   "source": [
    "# Part de l'alimentation animale dans la disponibilité intérieure\n",
    "\n",
    "part_alim_anim = round((som_alim_anim/dispo_int)*100, 2)\n",
    "\n",
    "print(\"La part de l'alimentation animale dans la disponibilité intérieure était de\", part_alim_anim ,\"%\")"
   ]
  },
  {
   "cell_type": "code",
   "execution_count": 36,
   "id": "f58ac86e",
   "metadata": {},
   "outputs": [
    {
     "name": "stdout",
     "output_type": "stream",
     "text": [
      "La part des pertes dans la disponibilité intérieure était de 4.65 %\n"
     ]
    }
   ],
   "source": [
    "# Part des pertes\n",
    "# Calcul somme des pertes\n",
    "\n",
    "som_pertes = round(dispo_alimentaire['Pertes'].sum())\n",
    "\n",
    "part_pertes = round((som_pertes/dispo_int)*100, 2)\n",
    "\n",
    "print(\"La part des pertes dans la disponibilité intérieure était de\", part_pertes,\"%\")"
   ]
  },
  {
   "cell_type": "code",
   "execution_count": 37,
   "id": "e8a90f51",
   "metadata": {},
   "outputs": [
    {
     "name": "stdout",
     "output_type": "stream",
     "text": [
      "La part de l'alimentation humaine dans la disponibilité intérieure était de 49.37 %\n"
     ]
    }
   ],
   "source": [
    "# Part de l'alimentation humaine\n",
    "\n",
    "som_nourriture = round(dispo_alimentaire['Nourriture'].sum())\n",
    "\n",
    "part_nourriture = round((som_nourriture/dispo_int)*100, 2)\n",
    "\n",
    "print(\"La part de l'alimentation humaine dans la disponibilité intérieure était de\",\n",
    "      part_nourriture, \"%\")"
   ]
  },
  {
   "cell_type": "code",
   "execution_count": 38,
   "id": "73cfdad3",
   "metadata": {},
   "outputs": [
    {
     "name": "stdout",
     "output_type": "stream",
     "text": [
      "(13.23, 49.37, 4.65, 32.75)\n",
      "<module 'matplotlib.pyplot' from '/Users/yacou/opt/anaconda3/lib/python3.9/site-packages/matplotlib/pyplot.py'>\n"
     ]
    },
    {
     "data": {
      "image/png": "[encoded data removed]",
      "text/plain": [
       "<Figure size 3000x500 with 1 Axes>"
      ]
     },
     "metadata": {},
     "output_type": "display_data"
    }
   ],
   "source": [
    "plt.figure(figsize=(30, 5))\n",
    "autres = 32.75\n",
    "x = part_alim_anim, part_nourriture, part_pertes, autres\n",
    "plt.pie(x, labels=['aliment animaux', 'nourriture',\n",
    "        'pertes', 'autres utilisations'], autopct='%.2f%%')\n",
    "plt.title('Utilisation des disponibilités alimentaires')\n",
    "sns.set_palette('pastel')\n",
    "print(x)\n",
    "print(plt)"
   ]
  },
  {
   "cell_type": "markdown",
   "id": "edbe8eba",
   "metadata": {},
   "source": [
    "### 4.1. Les pays pour lesquels la proportion de personnes sous alimentées est la plus forte en 2017"
   ]
  },
  {
   "cell_type": "code",
   "execution_count": 39,
   "id": "4d1cdde0",
   "metadata": {},
   "outputs": [],
   "source": [
    "# Creation data frames sous nutrition pour l'année 2017\n",
    "\n",
    "sous_nutrition_2017 = sous_nutrition.loc[sous_nutrition['Année'] == 2017]"
   ]
  },
  {
   "cell_type": "code",
   "execution_count": 40,
   "id": "5f1e2cd6",
   "metadata": {},
   "outputs": [],
   "source": [
    "# Jointure entre les datas frames sous nutrition pour l'année 2017 et la population pour l'année 2017\n",
    "\n",
    "df_sous_nutrition_2017 = pd.merge(sous_nutrition_2017, population_2017, on=[\n",
    "                                  'Zone', 'Année'], how='inner')"
   ]
  },
  {
   "cell_type": "code",
   "execution_count": 41,
   "id": "fefde714",
   "metadata": {},
   "outputs": [],
   "source": [
    "# Renommage des series Valeur_x et Valeur_y\n",
    "\n",
    "df_sous_nutrition_2017 = df_sous_nutrition_2017.rename(\n",
    "    columns={'Valeur_x': 'NB personnes en sous nutrition', 'Valeur_y': 'Population totale'})"
   ]
  },
  {
   "cell_type": "code",
   "execution_count": 42,
   "id": "3dfeb7d5",
   "metadata": {},
   "outputs": [],
   "source": [
    "# Calcul proportion de sous alimentation pour chaque pays\n",
    "\n",
    "df_sous_nutrition_2017['Proportion sous alimentation'] = round(\n",
    "    (df_sous_nutrition_2017['NB personnes en sous nutrition']/df_sous_nutrition_2017['Population totale']*1000000)*100, 2)"
   ]
  },
  {
   "cell_type": "code",
   "execution_count": 43,
   "id": "67a3230f",
   "metadata": {},
   "outputs": [],
   "source": [
    "# Liste des pays pour lesquels la proportion de personnes sous-alimentées est la plus forte\n",
    "\n",
    "df_sous_nutrition_2017.sort_values(\n",
    "    'Proportion sous alimentation', ascending=False, inplace=True)\n",
    "df_sous_nutrition_2017 = df_sous_nutrition_2017[[\n",
    "    'Zone', 'Proportion sous alimentation']].head(10).reset_index(drop=True)"
   ]
  },
  {
   "cell_type": "code",
   "execution_count": 44,
   "id": "68949059",
   "metadata": {},
   "outputs": [
    {
     "data": {
      "text/html": [
       "<div>\n",
       "<style scoped>\n",
       "    .dataframe tbody tr th:only-of-type {\n",
       "        vertical-align: middle;\n",
       "    }\n",
       "\n",
       "    .dataframe tbody tr th {\n",
       "        vertical-align: top;\n",
       "    }\n",
       "\n",
       "    .dataframe thead th {\n",
       "        text-align: right;\n",
       "    }\n",
       "</style>\n",
       "<table border=\"1\" class=\"dataframe\">\n",
       "  <thead>\n",
       "    <tr style=\"text-align: right;\">\n",
       "      <th></th>\n",
       "      <th>Zone</th>\n",
       "      <th>Proportion sous alimentation</th>\n",
       "    </tr>\n",
       "  </thead>\n",
       "  <tbody>\n",
       "    <tr>\n",
       "      <th>0</th>\n",
       "      <td>Haïti</td>\n",
       "      <td>48.26</td>\n",
       "    </tr>\n",
       "    <tr>\n",
       "      <th>1</th>\n",
       "      <td>République populaire démocratique de Corée</td>\n",
       "      <td>47.19</td>\n",
       "    </tr>\n",
       "    <tr>\n",
       "      <th>2</th>\n",
       "      <td>Madagascar</td>\n",
       "      <td>41.06</td>\n",
       "    </tr>\n",
       "    <tr>\n",
       "      <th>3</th>\n",
       "      <td>Libéria</td>\n",
       "      <td>38.28</td>\n",
       "    </tr>\n",
       "    <tr>\n",
       "      <th>4</th>\n",
       "      <td>Lesotho</td>\n",
       "      <td>38.25</td>\n",
       "    </tr>\n",
       "    <tr>\n",
       "      <th>5</th>\n",
       "      <td>Tchad</td>\n",
       "      <td>37.96</td>\n",
       "    </tr>\n",
       "    <tr>\n",
       "      <th>6</th>\n",
       "      <td>Rwanda</td>\n",
       "      <td>35.06</td>\n",
       "    </tr>\n",
       "    <tr>\n",
       "      <th>7</th>\n",
       "      <td>Mozambique</td>\n",
       "      <td>32.81</td>\n",
       "    </tr>\n",
       "    <tr>\n",
       "      <th>8</th>\n",
       "      <td>Timor-Leste</td>\n",
       "      <td>32.17</td>\n",
       "    </tr>\n",
       "    <tr>\n",
       "      <th>9</th>\n",
       "      <td>Afghanistan</td>\n",
       "      <td>28.93</td>\n",
       "    </tr>\n",
       "  </tbody>\n",
       "</table>\n",
       "</div>"
      ],
      "text/plain": [
       "                                         Zone  Proportion sous alimentation\n",
       "0                                       Haïti                         48.26\n",
       "1  République populaire démocratique de Corée                         47.19\n",
       "2                                  Madagascar                         41.06\n",
       "3                                     Libéria                         38.28\n",
       "4                                     Lesotho                         38.25\n",
       "5                                       Tchad                         37.96\n",
       "6                                      Rwanda                         35.06\n",
       "7                                  Mozambique                         32.81\n",
       "8                                 Timor-Leste                         32.17\n",
       "9                                 Afghanistan                         28.93"
      ]
     },
     "metadata": {},
     "output_type": "display_data"
    }
   ],
   "source": [
    "display(df_sous_nutrition_2017)"
   ]
  },
  {
   "cell_type": "code",
   "execution_count": 45,
   "id": "f5573e54",
   "metadata": {},
   "outputs": [
    {
     "data": {
      "text/plain": [
       "Text(0.5, 1.0, 'Pays ou la proportion de population en sous nutrition est la plus forte')"
      ]
     },
     "execution_count": 45,
     "metadata": {},
     "output_type": "execute_result"
    },
    {
     "data": {
      "image/png": "[encoded data removed]",
      "text/plain": [
       "<Figure size 640x480 with 1 Axes>"
      ]
     },
     "metadata": {},
     "output_type": "display_data"
    }
   ],
   "source": [
    "sns.barplot(data=df_sous_nutrition_2017,\n",
    "            x=df_sous_nutrition_2017['Proportion sous alimentation'], y=df_sous_nutrition_2017['Zone'])\n",
    "sns.set_palette('dark')\n",
    "plt.title('Pays ou la proportion de population en sous nutrition est la plus forte')"
   ]
  },
  {
   "cell_type": "markdown",
   "id": "6d1ad0ef",
   "metadata": {},
   "source": [
    "### 4.2. Les pays qui ont le plus bénéficié d’aide depuis 2013"
   ]
  },
  {
   "cell_type": "code",
   "execution_count": 46,
   "id": "89e41fe4",
   "metadata": {},
   "outputs": [],
   "source": [
    "# Creation data frames pour les aides pour l'année 2017\n",
    "\n",
    "aide_alimentaire_2013 = aide_alimentaire.loc[aide_alimentaire['Année'] >= 2013]"
   ]
  },
  {
   "cell_type": "code",
   "execution_count": 47,
   "id": "a83f43e1",
   "metadata": {},
   "outputs": [],
   "source": [
    "# Renommer la serie 'Valeur' en  'Quantité donnée (en tonnes)\n",
    "\n",
    "aide_alimentaire_2013.rename(\n",
    "    columns={'Valeur': 'Quantité donnée (en tonnes)'}, inplace=True)\n",
    "\n",
    "# Agregation\n",
    "\n",
    "aide_alimentaire_2013 = aide_alimentaire_2013.groupby(\n",
    "    'Zone').sum(\"Quantité donnée (en tonnes)\")\n",
    "\n",
    "# Tri decroissant\n",
    "\n",
    "aide_alimentaire_2013.sort_values(\n",
    "    'Quantité donnée (en tonnes)', ascending=False, inplace=True)\n",
    "\n",
    "aide_alimentaire_2013 = aide_alimentaire_2013[[\n",
    "    'Quantité donnée (en tonnes)']].head(10)"
   ]
  },
  {
   "cell_type": "code",
   "execution_count": 48,
   "id": "8eb133b3",
   "metadata": {},
   "outputs": [
    {
     "data": {
      "text/html": [
       "<div>\n",
       "<style scoped>\n",
       "    .dataframe tbody tr th:only-of-type {\n",
       "        vertical-align: middle;\n",
       "    }\n",
       "\n",
       "    .dataframe tbody tr th {\n",
       "        vertical-align: top;\n",
       "    }\n",
       "\n",
       "    .dataframe thead th {\n",
       "        text-align: right;\n",
       "    }\n",
       "</style>\n",
       "<table border=\"1\" class=\"dataframe\">\n",
       "  <thead>\n",
       "    <tr style=\"text-align: right;\">\n",
       "      <th></th>\n",
       "      <th>Quantité donnée (en tonnes)</th>\n",
       "      <th>Zone</th>\n",
       "    </tr>\n",
       "  </thead>\n",
       "  <tbody>\n",
       "    <tr>\n",
       "      <th>0</th>\n",
       "      <td>1858943</td>\n",
       "      <td>République arabe syrienne</td>\n",
       "    </tr>\n",
       "    <tr>\n",
       "      <th>1</th>\n",
       "      <td>1381294</td>\n",
       "      <td>Éthiopie</td>\n",
       "    </tr>\n",
       "    <tr>\n",
       "      <th>2</th>\n",
       "      <td>1206484</td>\n",
       "      <td>Yémen</td>\n",
       "    </tr>\n",
       "    <tr>\n",
       "      <th>3</th>\n",
       "      <td>695248</td>\n",
       "      <td>Soudan du Sud</td>\n",
       "    </tr>\n",
       "    <tr>\n",
       "      <th>4</th>\n",
       "      <td>669784</td>\n",
       "      <td>Soudan</td>\n",
       "    </tr>\n",
       "    <tr>\n",
       "      <th>5</th>\n",
       "      <td>552836</td>\n",
       "      <td>Kenya</td>\n",
       "    </tr>\n",
       "    <tr>\n",
       "      <th>6</th>\n",
       "      <td>348188</td>\n",
       "      <td>Bangladesh</td>\n",
       "    </tr>\n",
       "    <tr>\n",
       "      <th>7</th>\n",
       "      <td>292678</td>\n",
       "      <td>Somalie</td>\n",
       "    </tr>\n",
       "    <tr>\n",
       "      <th>8</th>\n",
       "      <td>288502</td>\n",
       "      <td>République démocratique du Congo</td>\n",
       "    </tr>\n",
       "    <tr>\n",
       "      <th>9</th>\n",
       "      <td>276344</td>\n",
       "      <td>Niger</td>\n",
       "    </tr>\n",
       "  </tbody>\n",
       "</table>\n",
       "</div>"
      ],
      "text/plain": [
       "   Quantité donnée (en tonnes)                              Zone\n",
       "0                      1858943         République arabe syrienne\n",
       "1                      1381294                          Éthiopie\n",
       "2                      1206484                             Yémen\n",
       "3                       695248                     Soudan du Sud\n",
       "4                       669784                            Soudan\n",
       "5                       552836                             Kenya\n",
       "6                       348188                        Bangladesh\n",
       "7                       292678                           Somalie\n",
       "8                       288502  République démocratique du Congo\n",
       "9                       276344                             Niger"
      ]
     },
     "execution_count": 48,
     "metadata": {},
     "output_type": "execute_result"
    }
   ],
   "source": [
    "aide_alimentaire_2013['Zone'] = aide_alimentaire_2013.index\n",
    "aide_alimentaire_2013.reset_index(drop=True)"
   ]
  },
  {
   "cell_type": "code",
   "execution_count": 49,
   "id": "96f0e4b2",
   "metadata": {},
   "outputs": [
    {
     "data": {
      "text/plain": [
       "Text(0.5, 1.0, 'Les pays qui ont le plus bénéficié d’aide depuis 2013')"
      ]
     },
     "execution_count": 49,
     "metadata": {},
     "output_type": "execute_result"
    },
    {
     "data": {
      "image/png": "[encoded data removed]",
      "text/plain": [
       "<Figure size 640x480 with 1 Axes>"
      ]
     },
     "metadata": {},
     "output_type": "display_data"
    }
   ],
   "source": [
    "sns.barplot(data=aide_alimentaire_2013,\n",
    "            x=aide_alimentaire_2013[\"Quantité donnée (en tonnes)\"], y=aide_alimentaire_2013['Zone'])\n",
    "sns.set_palette('dark')\n",
    "plt.title('Les pays qui ont le plus bénéficié d’aide depuis 2013')"
   ]
  },
  {
   "cell_type": "markdown",
   "id": "a480b94e",
   "metadata": {},
   "source": [
    "### 4.3. Les pays ayant le plus/le moins de disponibilité/habitant"
   ]
  },
  {
   "cell_type": "code",
   "execution_count": 50,
   "id": "27853173",
   "metadata": {},
   "outputs": [],
   "source": [
    "# Agregation\n",
    "\n",
    "dispo_par_habit = dispo_alimentaire.groupby('Zone').sum(\n",
    "    'Disponibilité alimentaire (Kcal/personne/jour)')"
   ]
  },
  {
   "cell_type": "code",
   "execution_count": 51,
   "id": "fd8f0d88",
   "metadata": {},
   "outputs": [
    {
     "data": {
      "text/html": [
       "<div>\n",
       "<style scoped>\n",
       "    .dataframe tbody tr th:only-of-type {\n",
       "        vertical-align: middle;\n",
       "    }\n",
       "\n",
       "    .dataframe tbody tr th {\n",
       "        vertical-align: top;\n",
       "    }\n",
       "\n",
       "    .dataframe thead th {\n",
       "        text-align: right;\n",
       "    }\n",
       "</style>\n",
       "<table border=\"1\" class=\"dataframe\">\n",
       "  <thead>\n",
       "    <tr style=\"text-align: right;\">\n",
       "      <th></th>\n",
       "      <th>Disponibilité alimentaire (Kcal/personne/jour)</th>\n",
       "      <th>Zone</th>\n",
       "    </tr>\n",
       "    <tr>\n",
       "      <th>Zone</th>\n",
       "      <th></th>\n",
       "      <th></th>\n",
       "    </tr>\n",
       "  </thead>\n",
       "  <tbody>\n",
       "    <tr>\n",
       "      <th>Autriche</th>\n",
       "      <td>3770.0</td>\n",
       "      <td>Autriche</td>\n",
       "    </tr>\n",
       "    <tr>\n",
       "      <th>Belgique</th>\n",
       "      <td>3737.0</td>\n",
       "      <td>Belgique</td>\n",
       "    </tr>\n",
       "    <tr>\n",
       "      <th>Turquie</th>\n",
       "      <td>3708.0</td>\n",
       "      <td>Turquie</td>\n",
       "    </tr>\n",
       "    <tr>\n",
       "      <th>États-Unis d'Amérique</th>\n",
       "      <td>3682.0</td>\n",
       "      <td>États-Unis d'Amérique</td>\n",
       "    </tr>\n",
       "    <tr>\n",
       "      <th>Israël</th>\n",
       "      <td>3610.0</td>\n",
       "      <td>Israël</td>\n",
       "    </tr>\n",
       "    <tr>\n",
       "      <th>Irlande</th>\n",
       "      <td>3602.0</td>\n",
       "      <td>Irlande</td>\n",
       "    </tr>\n",
       "    <tr>\n",
       "      <th>Italie</th>\n",
       "      <td>3578.0</td>\n",
       "      <td>Italie</td>\n",
       "    </tr>\n",
       "    <tr>\n",
       "      <th>Luxembourg</th>\n",
       "      <td>3540.0</td>\n",
       "      <td>Luxembourg</td>\n",
       "    </tr>\n",
       "    <tr>\n",
       "      <th>Égypte</th>\n",
       "      <td>3518.0</td>\n",
       "      <td>Égypte</td>\n",
       "    </tr>\n",
       "    <tr>\n",
       "      <th>Allemagne</th>\n",
       "      <td>3503.0</td>\n",
       "      <td>Allemagne</td>\n",
       "    </tr>\n",
       "  </tbody>\n",
       "</table>\n",
       "</div>"
      ],
      "text/plain": [
       "                       Disponibilité alimentaire (Kcal/personne/jour)  \\\n",
       "Zone                                                                    \n",
       "Autriche                                                       3770.0   \n",
       "Belgique                                                       3737.0   \n",
       "Turquie                                                        3708.0   \n",
       "États-Unis d'Amérique                                          3682.0   \n",
       "Israël                                                         3610.0   \n",
       "Irlande                                                        3602.0   \n",
       "Italie                                                         3578.0   \n",
       "Luxembourg                                                     3540.0   \n",
       "Égypte                                                         3518.0   \n",
       "Allemagne                                                      3503.0   \n",
       "\n",
       "                                        Zone  \n",
       "Zone                                          \n",
       "Autriche                            Autriche  \n",
       "Belgique                            Belgique  \n",
       "Turquie                              Turquie  \n",
       "États-Unis d'Amérique  États-Unis d'Amérique  \n",
       "Israël                                Israël  \n",
       "Irlande                              Irlande  \n",
       "Italie                                Italie  \n",
       "Luxembourg                        Luxembourg  \n",
       "Égypte                                Égypte  \n",
       "Allemagne                          Allemagne  "
      ]
     },
     "execution_count": 51,
     "metadata": {},
     "output_type": "execute_result"
    }
   ],
   "source": [
    "# Les 10 pays ayant le plus de disponibilité par habitant\n",
    "\n",
    "dispo_par_habit_plus = dispo_par_habit.sort_values(\n",
    "    'Disponibilité alimentaire (Kcal/personne/jour)', ascending=False, inplace=True)\n",
    "dispo_par_habit_plus = dispo_par_habit[[\n",
    "    'Disponibilité alimentaire (Kcal/personne/jour)']].head(10)\n",
    "dispo_par_habit_plus['Zone'] = dispo_par_habit_plus.index\n",
    "dispo_par_habit_plus.reset_index(drop=True)\n",
    "dispo_par_habit_plus"
   ]
  },
  {
   "cell_type": "code",
   "execution_count": 52,
   "id": "d734f7a5",
   "metadata": {},
   "outputs": [
    {
     "data": {
      "text/plain": [
       "Text(0.5, 1.0, 'Les 10 pays ayant le plus de disponibilité par habitant')"
      ]
     },
     "execution_count": 52,
     "metadata": {},
     "output_type": "execute_result"
    },
    {
     "data": {
      "image/png": "[encoded data removed]",
      "text/plain": [
       "<Figure size 640x480 with 1 Axes>"
      ]
     },
     "metadata": {},
     "output_type": "display_data"
    }
   ],
   "source": [
    "sns.barplot(data=dispo_par_habit_plus,\n",
    "            y=dispo_par_habit_plus['Zone'], x=dispo_par_habit_plus['Disponibilité alimentaire (Kcal/personne/jour)'])\n",
    "sns.set_palette('dark')\n",
    "plt.title('Les 10 pays ayant le plus de disponibilité par habitant')"
   ]
  },
  {
   "cell_type": "code",
   "execution_count": 53,
   "id": "0490c6f8",
   "metadata": {},
   "outputs": [
    {
     "data": {
      "text/html": [
       "<div>\n",
       "<style scoped>\n",
       "    .dataframe tbody tr th:only-of-type {\n",
       "        vertical-align: middle;\n",
       "    }\n",
       "\n",
       "    .dataframe tbody tr th {\n",
       "        vertical-align: top;\n",
       "    }\n",
       "\n",
       "    .dataframe thead th {\n",
       "        text-align: right;\n",
       "    }\n",
       "</style>\n",
       "<table border=\"1\" class=\"dataframe\">\n",
       "  <thead>\n",
       "    <tr style=\"text-align: right;\">\n",
       "      <th></th>\n",
       "      <th>Disponibilité alimentaire (Kcal/personne/jour)</th>\n",
       "      <th>Zone</th>\n",
       "    </tr>\n",
       "    <tr>\n",
       "      <th>Zone</th>\n",
       "      <th></th>\n",
       "      <th></th>\n",
       "    </tr>\n",
       "  </thead>\n",
       "  <tbody>\n",
       "    <tr>\n",
       "      <th>République centrafricaine</th>\n",
       "      <td>1879.0</td>\n",
       "      <td>République centrafricaine</td>\n",
       "    </tr>\n",
       "    <tr>\n",
       "      <th>Zambie</th>\n",
       "      <td>1924.0</td>\n",
       "      <td>Zambie</td>\n",
       "    </tr>\n",
       "    <tr>\n",
       "      <th>Madagascar</th>\n",
       "      <td>2056.0</td>\n",
       "      <td>Madagascar</td>\n",
       "    </tr>\n",
       "    <tr>\n",
       "      <th>Afghanistan</th>\n",
       "      <td>2087.0</td>\n",
       "      <td>Afghanistan</td>\n",
       "    </tr>\n",
       "    <tr>\n",
       "      <th>Haïti</th>\n",
       "      <td>2089.0</td>\n",
       "      <td>Haïti</td>\n",
       "    </tr>\n",
       "    <tr>\n",
       "      <th>République populaire démocratique de Corée</th>\n",
       "      <td>2093.0</td>\n",
       "      <td>République populaire démocratique de Corée</td>\n",
       "    </tr>\n",
       "    <tr>\n",
       "      <th>Tchad</th>\n",
       "      <td>2109.0</td>\n",
       "      <td>Tchad</td>\n",
       "    </tr>\n",
       "    <tr>\n",
       "      <th>Zimbabwe</th>\n",
       "      <td>2113.0</td>\n",
       "      <td>Zimbabwe</td>\n",
       "    </tr>\n",
       "    <tr>\n",
       "      <th>Ouganda</th>\n",
       "      <td>2126.0</td>\n",
       "      <td>Ouganda</td>\n",
       "    </tr>\n",
       "    <tr>\n",
       "      <th>Éthiopie</th>\n",
       "      <td>2129.0</td>\n",
       "      <td>Éthiopie</td>\n",
       "    </tr>\n",
       "  </tbody>\n",
       "</table>\n",
       "</div>"
      ],
      "text/plain": [
       "                                            Disponibilité alimentaire (Kcal/personne/jour)  \\\n",
       "Zone                                                                                         \n",
       "République centrafricaine                                                           1879.0   \n",
       "Zambie                                                                              1924.0   \n",
       "Madagascar                                                                          2056.0   \n",
       "Afghanistan                                                                         2087.0   \n",
       "Haïti                                                                               2089.0   \n",
       "République populaire démocratique de Corée                                          2093.0   \n",
       "Tchad                                                                               2109.0   \n",
       "Zimbabwe                                                                            2113.0   \n",
       "Ouganda                                                                             2126.0   \n",
       "Éthiopie                                                                            2129.0   \n",
       "\n",
       "                                                                                  Zone  \n",
       "Zone                                                                                    \n",
       "République centrafricaine                                    République centrafricaine  \n",
       "Zambie                                                                          Zambie  \n",
       "Madagascar                                                                  Madagascar  \n",
       "Afghanistan                                                                Afghanistan  \n",
       "Haïti                                                                            Haïti  \n",
       "République populaire démocratique de Corée  République populaire démocratique de Corée  \n",
       "Tchad                                                                            Tchad  \n",
       "Zimbabwe                                                                      Zimbabwe  \n",
       "Ouganda                                                                        Ouganda  \n",
       "Éthiopie                                                                      Éthiopie  "
      ]
     },
     "execution_count": 53,
     "metadata": {},
     "output_type": "execute_result"
    }
   ],
   "source": [
    "# Les 10 pays ayant le moins de disponibilité par habitant\n",
    "\n",
    "dispo_par_habit_moins = dispo_par_habit.sort_values(\n",
    "    'Disponibilité alimentaire (Kcal/personne/jour)', ascending=True, inplace=True)\n",
    "dispo_par_habit_moins = dispo_par_habit[[\n",
    "    'Disponibilité alimentaire (Kcal/personne/jour)']].head(10)\n",
    "dispo_par_habit_moins['Zone'] = dispo_par_habit_moins.index\n",
    "dispo_par_habit_moins.reset_index(drop=True)\n",
    "dispo_par_habit_moins"
   ]
  },
  {
   "cell_type": "code",
   "execution_count": 54,
   "id": "ebf50ad4",
   "metadata": {},
   "outputs": [
    {
     "data": {
      "text/plain": [
       "Text(0.5, 1.0, 'Les 10 pays ayant le moins de disponibilité par habitant')"
      ]
     },
     "execution_count": 54,
     "metadata": {},
     "output_type": "execute_result"
    },
    {
     "data": {
      "image/png": "[encoded data removed]",
      "text/plain": [
       "<Figure size 640x480 with 1 Axes>"
      ]
     },
     "metadata": {},
     "output_type": "display_data"
    }
   ],
   "source": [
    "sns.barplot(data=dispo_par_habit_moins,\n",
    "            y=dispo_par_habit_moins['Zone'], x=dispo_par_habit_moins['Disponibilité alimentaire (Kcal/personne/jour)'])\n",
    "sns.set_palette('dark')\n",
    "plt.title('Les 10 pays ayant le moins de disponibilité par habitant')"
   ]
  },
  {
   "cell_type": "markdown",
   "id": "d1417bb2",
   "metadata": {},
   "source": [
    "### 5. Traitement des demandes de Julien\n",
    "\n",
    "### 5.1. Équation exprimant le lien entre les 10 variables"
   ]
  },
  {
   "cell_type": "markdown",
   "id": "e01754d8",
   "metadata": {},
   "source": [
    "### Production + Importations - Exportations + Variation de stock = Disponibilité intérieure = Semences + Pertes + Nourriture + Aliments pour animaux + Traitement + Autres utilisations"
   ]
  },
  {
   "cell_type": "markdown",
   "id": "5e01e79b",
   "metadata": {},
   "source": [
    "### 5.2. Répartition de l’utilisation des céréales entre l’alimentation humaine et animale"
   ]
  },
  {
   "cell_type": "code",
   "execution_count": 55,
   "id": "969a5095",
   "metadata": {},
   "outputs": [],
   "source": [
    "# Importation data frames des céréales\n",
    "\n",
    "df_cereales = pd.read_csv('alimentaire céréales.csv')"
   ]
  },
  {
   "cell_type": "code",
   "execution_count": 56,
   "id": "32731126",
   "metadata": {},
   "outputs": [],
   "source": [
    "# Creation d'une liste contenant la liste des produits céreales\n",
    "\n",
    "liste_cereales = df_cereales['Produit'].unique().tolist()"
   ]
  },
  {
   "cell_type": "code",
   "execution_count": 57,
   "id": "8561798c",
   "metadata": {},
   "outputs": [],
   "source": [
    "# Creation d'un data frames contenant que les cereales\n",
    "\n",
    "cereales = dispo_alimentaire[dispo_alimentaire['Produit'].isin(liste_cereales)]"
   ]
  },
  {
   "cell_type": "code",
   "execution_count": 58,
   "id": "5b109f58",
   "metadata": {},
   "outputs": [],
   "source": [
    "# Somme totale des céréales destinées à l'alimentation des animaux\n",
    "\n",
    "cereales_anim = sum(cereales['Aliments pour animaux'])\n",
    "\n",
    "# Somme totale des céréales destinées à l'alimentation humaine\n",
    "\n",
    "cereales_nourriture = sum(cereales['Nourriture'])\n",
    "\n",
    "# Somme totale des céréales\n",
    "\n",
    "total_cereales = sum(cereales['Disponibilité intérieure'])\n",
    "\n",
    "#print(\"En 2017, la disponibilité intérieure mondiale en céréale était de\", total_cereales, \"tonnes.\\n\")\n",
    "#print(cereales_anim, \"tonnes étaient destinées à l'alimentation animale, soit\", round(cereales_anim/total_cereales*100,2),\"% de la disponibilité interieure mondiale.\\n\")\n",
    "#print(\"Et\", cereales_nourriture, \"tonnes étaient destinées à l'alimentation humaine, soit,\", round(cereales_nourriture/total_cereales*100,2),\"% de la disponibilité interieure mondiale.\")"
   ]
  },
  {
   "cell_type": "code",
   "execution_count": 59,
   "id": "0612c284",
   "metadata": {},
   "outputs": [
    {
     "name": "stdout",
     "output_type": "stream",
     "text": [
      "(69.67, 17.63, 12.7)\n",
      "<module 'matplotlib.pyplot' from '/Users/yacou/opt/anaconda3/lib/python3.9/site-packages/matplotlib/pyplot.py'>\n"
     ]
    },
    {
     "data": {
      "image/png": "[encoded data removed]",
      "text/plain": [
       "<Figure size 3000x500 with 1 Axes>"
      ]
     },
     "metadata": {},
     "output_type": "display_data"
    }
   ],
   "source": [
    "plt.figure(figsize=(30, 5))\n",
    "autres = 12.7\n",
    "x = round(cereales_anim/total_cereales*100,\n",
    "          2), round(cereales_nourriture/total_cereales*100, 2), autres\n",
    "plt.pie(x, labels=['cereales animaux', 'cereales nourriture',\n",
    "        'autres utilisations'], autopct='%.2f%%')\n",
    "plt.title(\"Repartition de l'utilisation des cereales\")\n",
    "sns.set_palette('pastel')\n",
    "print(x)\n",
    "print(plt)"
   ]
  },
  {
   "cell_type": "markdown",
   "id": "9565e18d",
   "metadata": {},
   "source": [
    "### 5.3. l’utilisation du manioc par la Thaïlande (Rapport entre la production et l’exportation)"
   ]
  },
  {
   "cell_type": "code",
   "execution_count": 60,
   "id": "afd9fd47",
   "metadata": {},
   "outputs": [],
   "source": [
    "# Population de la Thaïlande 2017\n",
    "\n",
    "pop_thai_2017 = sum(\n",
    "    population_2017.loc[population_2017['Zone'] == 'Thaïlande', 'Valeur'])\n",
    "\n",
    "# Population Thaïlande en sous nutrition en 2017\n",
    "\n",
    "pop_thai_sous_nu_2017 = sum(\n",
    "    sous_nutrition_2017.loc[sous_nutrition_2017['Zone'] == 'Thaïlande', 'Valeur'])"
   ]
  },
  {
   "cell_type": "code",
   "execution_count": 61,
   "id": "ba5b197f",
   "metadata": {},
   "outputs": [],
   "source": [
    "# Creation data frames pour la disponibilité alimentaire de la Thailande en 2017\n",
    "\n",
    "dispo_alimentaire_manioc_2017 = dispo_alimentaire.loc[(dispo_alimentaire['Zone'] == 'Thaïlande') & (\n",
    "    dispo_alimentaire['Produit'] == 'Manioc') & (dispo_alimentaire['Année'] == 2017)]"
   ]
  },
  {
   "cell_type": "code",
   "execution_count": 62,
   "id": "5d88152d",
   "metadata": {},
   "outputs": [
    {
     "name": "stdout",
     "output_type": "stream",
     "text": [
      "La population Thailandaise en 2017 était de 69.21 millions de personnes\n",
      "\n",
      "La population Thailandaise en état de sous nutrition en 2017 était de 6.2 millions de personnes, soit 8.96 % de la population\n",
      "\n",
      "La production Thailandaise de manioc en 2017 était de 30228.0 tonnes.\n",
      "\n",
      "L'exportation Thailandaise de manioc en 2017 était de 25214.0 tonnes. Soit 83.41 % de la production\n"
     ]
    }
   ],
   "source": [
    "print(\"La population Thailandaise en 2017 était de\", round(\n",
    "    pop_thai_2017/1000000, 2), 'millions de personnes\\n')\n",
    "print(\"La population Thailandaise en état de sous nutrition en 2017 était de\", pop_thai_sous_nu_2017,\n",
    "      \"millions de personnes, soit\", round((pop_thai_sous_nu_2017*1000000)/pop_thai_2017*100, 2), \"% de la population\\n\")\n",
    "print(\"La production Thailandaise de manioc en 2017 était de\",\n",
    "      dispo_alimentaire_manioc_2017['Production'].sum(), \"tonnes.\\n\")\n",
    "print(\"L'exportation Thailandaise de manioc en 2017 était de\", dispo_alimentaire_manioc_2017['Exportations - Quantité'].sum(), \"tonnes. Soit\", round(\n",
    "    dispo_alimentaire_manioc_2017['Exportations - Quantité'].sum()/dispo_alimentaire_manioc_2017['Production'].sum()*100, 2), \"% de la production\")"
   ]
  },
  {
   "cell_type": "markdown",
   "id": "6988e199",
   "metadata": {},
   "source": [
    "### 6. Conclusion\n",
    "\n",
    "### Au terme de nos différentes analyses, il en ressort que la disponibilité intérieure mondiale pour l'année 2017 était à même de pouvoir nourrir l’ensemble de la population mondiale, mais malheureusement 7,09% de la population était en état de sous nutrition.\n",
    "\n",
    "### Nous avons également observé que les aides apportées aux pays n’étaient pas proportionnelles à la réalité de chaque pays. En effet si on prend la liste des 10 pays ayant le plus bénéficiés d’aides, et celle des pays ou la proportion de sous-alimentation est la plus élevée, on remarque qu’aucun pays de la dernière liste citée ne se trouve dans la première.\n",
    "\n",
    "### On peut également noter une répartition inégale de certaines ressources, telle que les céréales dont 69,67% de la disponiblité interieure mondiale était destinée à l’alimentation animale, cela reste quand même élevé quand on voit le nombre de personne en état de sous nutrition.\n",
    "### Sans oulier la Thailande qui avec 8,96% de sa population en état de sous nutrition exporte 83,41% de sa production de manioc\n",
    "\n",
    "### Les raisons de la sous-alimentation peuvent être diverses et variés.\n",
    "### Nous pouvons évoquer les conflits armés dans certains pays, le changement climatique qui touche le monde entier, et aussi la corruption qui est relative à la mauvaise gestion des dons à distribuer.\n",
    " \n",
    "### Afin de faire baisser la proportion du nombre de personne en étant de sous nutrition, il serait idéal d’aider à hauteur les pays qui présentent les plus forts taux de personnes en état de sous nutrition, de militer pour un changement comportemental afin de faire ralentir les effets du changement climatique et surtout favoriser la mise en place d'un monde sans guerre."
   ]
  },
  {
   "cell_type": "markdown",
   "id": "46fa1a58",
   "metadata": {},
   "source": [
    "[↟](#Sommaire)"
   ]
  }
 ],
 "metadata": {
  "kernelspec": {
   "display_name": "Python 3 (ipykernel)",
   "language": "python",
   "name": "python3"
  },
  "language_info": {
   "codemirror_mode": {
    "name": "ipython",
    "version": 3
   },
   "file_extension": ".py",
   "mimetype": "text/x-python",
   "name": "python",
   "nbconvert_exporter": "python",
   "pygments_lexer": "ipython3",
   "version": "3.9.13"
  },
  "toc": {
   "base_numbering": 1,
   "nav_menu": {},
   "number_sections": false,
   "sideBar": true,
   "skip_h1_title": true,
   "title_cell": "Table of Contents",
   "title_sidebar": "Contents",
   "toc_cell": false,
   "toc_position": {
    "height": "556px",
    "left": "30px",
    "top": "110px",
    "width": "401px"
   },
   "toc_section_display": true,
   "toc_window_display": true
  }
 },
 "nbformat": 4,
 "nbformat_minor": 5
}
