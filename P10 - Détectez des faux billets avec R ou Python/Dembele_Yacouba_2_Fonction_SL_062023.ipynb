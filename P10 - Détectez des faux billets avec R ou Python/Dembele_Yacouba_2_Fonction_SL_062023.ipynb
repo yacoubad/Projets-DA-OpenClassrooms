{
 "cells": [
  {
   "cell_type": "code",
   "execution_count": null,
   "id": "a8a09a80",
   "metadata": {},
   "outputs": [],
   "source": [
    "%run Bibliothèque.ipynb"
   ]
  },
  {
   "cell_type": "code",
   "execution_count": null,
   "id": "9846c5bd",
   "metadata": {},
   "outputs": [],
   "source": [
    "# Importation du jeu de donnée\n",
    "\n",
    "data= pd.read_csv('')"
   ]
  },
  {
   "cell_type": "code",
   "execution_count": null,
   "id": "8eb61577",
   "metadata": {},
   "outputs": [],
   "source": [
    "# Aperçu du jeu de donnée\n",
    "\n",
    "data"
   ]
  },
  {
   "cell_type": "code",
   "execution_count": null,
   "id": "d2301a1d",
   "metadata": {
    "code_folding": []
   },
   "outputs": [],
   "source": [
    "# Fonction pour standardiser les données\n",
    "\n",
    "def standardize_data(data):\n",
    "    # Standardize the features\n",
    "    for feature in data.columns:\n",
    "        if feature != 'id':\n",
    "            data[feature] = StandardScaler().fit_transform(data[[feature]])\n",
    "\n",
    "    return data\n",
    "\n",
    "# Fonction pour la detection du type des billets\n",
    "\n",
    "def prediction_billets(data):\n",
    "\n",
    "    # Définition de nos variables\n",
    "\n",
    "    X = data[['height_right', 'margin_low', 'margin_up', 'length']]\n",
    "\n",
    "    X = sm.add_constant(X)\n",
    "\n",
    "    # Importation de la méthode de la regression logistique\n",
    "\n",
    "    reg_log_sl = joblib.load('reg_log_sl.joblib')\n",
    "\n",
    "    # Prediction type billets\n",
    "\n",
    "    data[\"is_genuine\"] = reg_log_sl.predict(X) > 0.5\n",
    "    data['is_genuine'].replace([0, 1], ['False', 'True'])\n",
    "\n",
    "    # Prédiction des probabilités pour chaque observation\n",
    "\n",
    "    probabilities = reg_log_sl.predict_proba(X)[:, 1]\n",
    "\n",
    "    # Insertion des probabilités dans le dataframe\n",
    "\n",
    "    data['proba_pred'] = probabilities\n",
    "\n",
    "    texte2 = \"Aperçu du dataframe\"\n",
    "    print(f\"{Style.BRIGHT}{Fore.BLUE}{texte2}{Style.RESET_ALL}\")\n",
    "\n",
    "    display(data.head())\n",
    "\n",
    "    # Affichage des resultats de la prediction\n",
    "\n",
    "    texte1 = \"Identification des billets\\n\"\n",
    "    print(f\"{Style.BRIGHT}{Fore.BLUE}{texte1}{Style.RESET_ALL}\")\n",
    "\n",
    "    for i, k in zip(data[\"is_genuine\"], data[\"id\"]):\n",
    "        if i == 1:\n",
    "            texte = \"est un billet authentique\"\n",
    "            print(\"Le billet\", \"{}\".format(k),\n",
    "                  f\"{Style.BRIGHT}{Fore.RED}{texte}{Style.RESET_ALL}\")\n",
    "        else:\n",
    "            print(\"Le billet\", \"{}\".format(k), \"est un faux billet\")\n",
    "\n",
    "    # Visualisation par scatterplot des variables 'margin_low' et 'length'\n",
    "\n",
    "    print(\"\")\n",
    "    sns.scatterplot(data=data, x='margin_low', y='length',\n",
    "                    hue=data['is_genuine'], legend='full')\n",
    "    for i in range(data.shape[0]):\n",
    "        plt.text(y=data.length[i]-0.05, x=data.margin_low[i]+0.1, s=data.id[i],\n",
    "                 fontdict=dict(color='red', size=10))\n",
    "    plt.title(\"Projection des billets\")\n",
    "    plt.show()"
   ]
  },
  {
   "cell_type": "code",
   "execution_count": null,
   "id": "ddba2e77",
   "metadata": {},
   "outputs": [],
   "source": [
    "prediction_billets(data)"
   ]
  }
 ],
 "metadata": {
  "kernelspec": {
   "display_name": "Python 3 (ipykernel)",
   "language": "python",
   "name": "python3"
  },
  "language_info": {
   "codemirror_mode": {
    "name": "ipython",
    "version": 3
   },
   "file_extension": ".py",
   "mimetype": "text/x-python",
   "name": "python",
   "nbconvert_exporter": "python",
   "pygments_lexer": "ipython3",
   "version": "3.9.13"
  },
  "toc": {
   "base_numbering": 1,
   "nav_menu": {},
   "number_sections": true,
   "sideBar": true,
   "skip_h1_title": true,
   "title_cell": "Table of Contents",
   "title_sidebar": "Contents",
   "toc_cell": false,
   "toc_position": {},
   "toc_section_display": true,
   "toc_window_display": false
  }
 },
 "nbformat": 4,
 "nbformat_minor": 5
}
